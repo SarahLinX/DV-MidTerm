{
 "cells": [
  {
   "cell_type": "code",
   "execution_count": 114,
   "metadata": {
    "ExecuteTime": {
     "end_time": "2019-11-04T16:44:01.389249Z",
     "start_time": "2019-11-04T16:43:56.074266Z"
    }
   },
   "outputs": [],
   "source": [
    "import json\n",
    "from pathlib import Path\n",
    "from itertools import islice\n",
    "import pandas as pd\n",
    "import matplotlib.pyplot as plt\n",
    "import datetime\n",
    "import numpy as np\n",
    "import seaborn as sns"
   ]
  },
  {
   "cell_type": "code",
   "execution_count": 23,
   "metadata": {
    "ExecuteTime": {
     "end_time": "2019-11-04T15:05:33.379932Z",
     "start_time": "2019-11-04T15:05:33.368205Z"
    }
   },
   "outputs": [],
   "source": [
    "#Load json.\n",
    "def load_dataset(path: Path):\n",
    "    with open(path, 'r') as data_file:\n",
    "        for line in data_file:\n",
    "            yield json.loads(line)\n",
    "        "
   ]
  },
  {
   "cell_type": "code",
   "execution_count": 24,
   "metadata": {
    "ExecuteTime": {
     "end_time": "2019-11-04T15:05:34.400348Z",
     "start_time": "2019-11-04T15:05:34.327839Z"
    }
   },
   "outputs": [],
   "source": [
    "#Import data\n",
    "Beauty = load_dataset(Path('/Users/linxisarah/Desktop/DV_MidTerm/amazon_data/Beauty/All_Beauty.json'))\n",
    "mBeauty = load_dataset(Path('/Users/linxisarah/Desktop/DV_MidTerm/amazon_data/Beauty/meta_All_Beauty.json'))\n",
    "LuxuryB = load_dataset(\n",
    "    Path('/Users/linxisarah/Desktop/DV_MidTerm/amazon_data/Luxury_Beauty/Luxury_Beauty.json'))\n",
    "mLuxuryB = load_dataset(\n",
    "    Path('/Users/linxisarah/Desktop/DV_MidTerm/amazon_data/Luxury_Beauty/meta_Luxury_Beauty.json'))"
   ]
  },
  {
   "cell_type": "code",
   "execution_count": 25,
   "metadata": {
    "ExecuteTime": {
     "end_time": "2019-11-04T15:05:46.876152Z",
     "start_time": "2019-11-04T15:05:35.473708Z"
    }
   },
   "outputs": [],
   "source": [
    "#I have just used these two datasets so far, you are free to use the others\n",
    "Beauty = pd.DataFrame(Beauty)\n",
    "mBeauty = pd.DataFrame(mBeauty)"
   ]
  },
  {
   "cell_type": "code",
   "execution_count": 26,
   "metadata": {
    "ExecuteTime": {
     "end_time": "2019-11-04T15:05:50.248488Z",
     "start_time": "2019-11-04T15:05:48.621942Z"
    }
   },
   "outputs": [
    {
     "data": {
      "text/html": [
       "<div>\n",
       "<style scoped>\n",
       "    .dataframe tbody tr th:only-of-type {\n",
       "        vertical-align: middle;\n",
       "    }\n",
       "\n",
       "    .dataframe tbody tr th {\n",
       "        vertical-align: top;\n",
       "    }\n",
       "\n",
       "    .dataframe thead th {\n",
       "        text-align: right;\n",
       "    }\n",
       "</style>\n",
       "<table border=\"1\" class=\"dataframe\">\n",
       "  <thead>\n",
       "    <tr style=\"text-align: right;\">\n",
       "      <th></th>\n",
       "      <th>asin</th>\n",
       "      <th>overall</th>\n",
       "      <th>reviewTime</th>\n",
       "    </tr>\n",
       "  </thead>\n",
       "  <tbody>\n",
       "    <tr>\n",
       "      <td>0</td>\n",
       "      <td>0143026860</td>\n",
       "      <td>1.0</td>\n",
       "      <td>02 19, 2015</td>\n",
       "    </tr>\n",
       "    <tr>\n",
       "      <td>1</td>\n",
       "      <td>0143026860</td>\n",
       "      <td>4.0</td>\n",
       "      <td>12 18, 2014</td>\n",
       "    </tr>\n",
       "    <tr>\n",
       "      <td>2</td>\n",
       "      <td>0143026860</td>\n",
       "      <td>4.0</td>\n",
       "      <td>08 10, 2014</td>\n",
       "    </tr>\n",
       "    <tr>\n",
       "      <td>3</td>\n",
       "      <td>0143026860</td>\n",
       "      <td>5.0</td>\n",
       "      <td>03 11, 2013</td>\n",
       "    </tr>\n",
       "    <tr>\n",
       "      <td>4</td>\n",
       "      <td>0143026860</td>\n",
       "      <td>5.0</td>\n",
       "      <td>12 25, 2011</td>\n",
       "    </tr>\n",
       "    <tr>\n",
       "      <td>...</td>\n",
       "      <td>...</td>\n",
       "      <td>...</td>\n",
       "      <td>...</td>\n",
       "    </tr>\n",
       "    <tr>\n",
       "      <td>371340</td>\n",
       "      <td>B01HJEGTYK</td>\n",
       "      <td>1.0</td>\n",
       "      <td>07 20, 2017</td>\n",
       "    </tr>\n",
       "    <tr>\n",
       "      <td>371341</td>\n",
       "      <td>B01HJEGTYK</td>\n",
       "      <td>5.0</td>\n",
       "      <td>03 16, 2017</td>\n",
       "    </tr>\n",
       "    <tr>\n",
       "      <td>371342</td>\n",
       "      <td>B01HJEGTYK</td>\n",
       "      <td>5.0</td>\n",
       "      <td>03 1, 2017</td>\n",
       "    </tr>\n",
       "    <tr>\n",
       "      <td>371343</td>\n",
       "      <td>B01HJEGTYK</td>\n",
       "      <td>2.0</td>\n",
       "      <td>02 21, 2017</td>\n",
       "    </tr>\n",
       "    <tr>\n",
       "      <td>371344</td>\n",
       "      <td>B01HJEGTYK</td>\n",
       "      <td>2.0</td>\n",
       "      <td>12 15, 2016</td>\n",
       "    </tr>\n",
       "  </tbody>\n",
       "</table>\n",
       "<p>322473 rows × 3 columns</p>\n",
       "</div>"
      ],
      "text/plain": [
       "              asin  overall   reviewTime\n",
       "0       0143026860      1.0  02 19, 2015\n",
       "1       0143026860      4.0  12 18, 2014\n",
       "2       0143026860      4.0  08 10, 2014\n",
       "3       0143026860      5.0  03 11, 2013\n",
       "4       0143026860      5.0  12 25, 2011\n",
       "...            ...      ...          ...\n",
       "371340  B01HJEGTYK      1.0  07 20, 2017\n",
       "371341  B01HJEGTYK      5.0  03 16, 2017\n",
       "371342  B01HJEGTYK      5.0   03 1, 2017\n",
       "371343  B01HJEGTYK      2.0  02 21, 2017\n",
       "371344  B01HJEGTYK      2.0  12 15, 2016\n",
       "\n",
       "[322473 rows x 3 columns]"
      ]
     },
     "execution_count": 26,
     "metadata": {},
     "output_type": "execute_result"
    }
   ],
   "source": [
    "#Tidy the data\n",
    "Beauty = Beauty.loc[:, ['asin', 'overall', 'reviewTime','verified']]\n",
    "BeautyT = Beauty[Beauty['verified'] == True]\n",
    "BeautyT.drop(['verified'], axis = 1, inplace = True)\n",
    "\n",
    "mBeauty = mBeauty.loc[:, ['asin', 'title', 'price', 'brand', 'main_cat']]\n",
    "DF = pd.merge(BeautyT, mBeauty, how = \"inner\", on = \"asin\")\n",
    "DF['reviewTime'] = pd.to_datetime(DF.reviewTime)"
   ]
  },
  {
   "cell_type": "code",
   "execution_count": 28,
   "metadata": {
    "ExecuteTime": {
     "end_time": "2019-11-04T15:05:54.363377Z",
     "start_time": "2019-11-04T15:05:54.351429Z"
    }
   },
   "outputs": [
    {
     "name": "stdout",
     "output_type": "stream",
     "text": [
      "Some reviews are of products are not in the metadata\n"
     ]
    }
   ],
   "source": [
    "#Just a reminder here\n",
    "if BeautyT.shape[0] < DF.shape[0]:\n",
    "    print(\"Some reviews are of products are not in the metadata\")"
   ]
  },
  {
   "cell_type": "code",
   "execution_count": 29,
   "metadata": {
    "ExecuteTime": {
     "end_time": "2019-11-04T15:05:57.728282Z",
     "start_time": "2019-11-04T15:05:57.713887Z"
    }
   },
   "outputs": [],
   "source": [
    "#Set-up the time range\n",
    "def add_first_review_time(data):\n",
    "    min_review_time = min(data['reviewTime'])\n",
    "    max_review_time = max(data['reviewTime'])\n",
    "    data['firstReviewTime'] = min_review_time\n",
    "    if ((max_review_time - min_review_time) / np.timedelta64(1, 'M')) >= 6:\n",
    "        reviewed_by_at_least_six_motnths = True\n",
    "    else:\n",
    "        reviewed_by_at_least_six_motnths = False\n",
    "    data['reviewedByAtLeastSixMotnths'] = reviewed_by_at_least_six_motnths\n",
    "    return data"
   ]
  },
  {
   "cell_type": "code",
   "execution_count": 30,
   "metadata": {
    "ExecuteTime": {
     "end_time": "2019-11-04T15:08:20.919973Z",
     "start_time": "2019-11-04T15:06:03.014908Z"
    }
   },
   "outputs": [],
   "source": [
    "DF = DF.groupby('asin').apply(add_first_review_time)"
   ]
  },
  {
   "cell_type": "code",
   "execution_count": 31,
   "metadata": {
    "ExecuteTime": {
     "end_time": "2019-11-04T15:08:35.462008Z",
     "start_time": "2019-11-04T15:08:35.410447Z"
    }
   },
   "outputs": [],
   "source": [
    "DF['numMonthsSinceFirstReview'] = ((DF['reviewTime'] - DF['firstReviewTime']) / np.timedelta64(1, 'M')).astype(int)"
   ]
  },
  {
   "cell_type": "code",
   "execution_count": 32,
   "metadata": {
    "ExecuteTime": {
     "end_time": "2019-11-04T15:08:39.212682Z",
     "start_time": "2019-11-04T15:08:39.177922Z"
    }
   },
   "outputs": [
    {
     "data": {
      "text/html": [
       "<div>\n",
       "<style scoped>\n",
       "    .dataframe tbody tr th:only-of-type {\n",
       "        vertical-align: middle;\n",
       "    }\n",
       "\n",
       "    .dataframe tbody tr th {\n",
       "        vertical-align: top;\n",
       "    }\n",
       "\n",
       "    .dataframe thead th {\n",
       "        text-align: right;\n",
       "    }\n",
       "</style>\n",
       "<table border=\"1\" class=\"dataframe\">\n",
       "  <thead>\n",
       "    <tr style=\"text-align: right;\">\n",
       "      <th></th>\n",
       "      <th>asin</th>\n",
       "      <th>overall</th>\n",
       "      <th>reviewTime</th>\n",
       "      <th>title</th>\n",
       "      <th>price</th>\n",
       "      <th>brand</th>\n",
       "      <th>main_cat</th>\n",
       "      <th>firstReviewTime</th>\n",
       "      <th>reviewedByAtLeastSixMotnths</th>\n",
       "      <th>numMonthsSinceFirstReview</th>\n",
       "    </tr>\n",
       "  </thead>\n",
       "  <tbody>\n",
       "    <tr>\n",
       "      <td>0</td>\n",
       "      <td>0143026860</td>\n",
       "      <td>1.0</td>\n",
       "      <td>2015-02-19</td>\n",
       "      <td>Black Diamond</td>\n",
       "      <td>NaN</td>\n",
       "      <td>Swedish Beauty</td>\n",
       "      <td>All Beauty</td>\n",
       "      <td>2011-12-25</td>\n",
       "      <td>True</td>\n",
       "      <td>37</td>\n",
       "    </tr>\n",
       "    <tr>\n",
       "      <td>1</td>\n",
       "      <td>0143026860</td>\n",
       "      <td>4.0</td>\n",
       "      <td>2014-12-18</td>\n",
       "      <td>Black Diamond</td>\n",
       "      <td>NaN</td>\n",
       "      <td>Swedish Beauty</td>\n",
       "      <td>All Beauty</td>\n",
       "      <td>2011-12-25</td>\n",
       "      <td>True</td>\n",
       "      <td>35</td>\n",
       "    </tr>\n",
       "    <tr>\n",
       "      <td>2</td>\n",
       "      <td>0143026860</td>\n",
       "      <td>4.0</td>\n",
       "      <td>2014-08-10</td>\n",
       "      <td>Black Diamond</td>\n",
       "      <td>NaN</td>\n",
       "      <td>Swedish Beauty</td>\n",
       "      <td>All Beauty</td>\n",
       "      <td>2011-12-25</td>\n",
       "      <td>True</td>\n",
       "      <td>31</td>\n",
       "    </tr>\n",
       "    <tr>\n",
       "      <td>3</td>\n",
       "      <td>0143026860</td>\n",
       "      <td>5.0</td>\n",
       "      <td>2013-03-11</td>\n",
       "      <td>Black Diamond</td>\n",
       "      <td>NaN</td>\n",
       "      <td>Swedish Beauty</td>\n",
       "      <td>All Beauty</td>\n",
       "      <td>2011-12-25</td>\n",
       "      <td>True</td>\n",
       "      <td>14</td>\n",
       "    </tr>\n",
       "    <tr>\n",
       "      <td>4</td>\n",
       "      <td>0143026860</td>\n",
       "      <td>5.0</td>\n",
       "      <td>2011-12-25</td>\n",
       "      <td>Black Diamond</td>\n",
       "      <td>NaN</td>\n",
       "      <td>Swedish Beauty</td>\n",
       "      <td>All Beauty</td>\n",
       "      <td>2011-12-25</td>\n",
       "      <td>True</td>\n",
       "      <td>0</td>\n",
       "    </tr>\n",
       "    <tr>\n",
       "      <td>...</td>\n",
       "      <td>...</td>\n",
       "      <td>...</td>\n",
       "      <td>...</td>\n",
       "      <td>...</td>\n",
       "      <td>...</td>\n",
       "      <td>...</td>\n",
       "      <td>...</td>\n",
       "      <td>...</td>\n",
       "      <td>...</td>\n",
       "      <td>...</td>\n",
       "    </tr>\n",
       "    <tr>\n",
       "      <td>335862</td>\n",
       "      <td>B01HJ84SGM</td>\n",
       "      <td>5.0</td>\n",
       "      <td>2017-10-03</td>\n",
       "      <td>NOW D-Mannose 500 mg - 120 Veg Capsules (Pack ...</td>\n",
       "      <td>$55.63</td>\n",
       "      <td>NaN</td>\n",
       "      <td>All Beauty</td>\n",
       "      <td>2017-05-09</td>\n",
       "      <td>True</td>\n",
       "      <td>4</td>\n",
       "    </tr>\n",
       "    <tr>\n",
       "      <td>335863</td>\n",
       "      <td>B01HJ84SGM</td>\n",
       "      <td>5.0</td>\n",
       "      <td>2017-08-24</td>\n",
       "      <td>NOW D-Mannose 500 mg - 120 Veg Capsules (Pack ...</td>\n",
       "      <td>$55.63</td>\n",
       "      <td>NaN</td>\n",
       "      <td>All Beauty</td>\n",
       "      <td>2017-05-09</td>\n",
       "      <td>True</td>\n",
       "      <td>3</td>\n",
       "    </tr>\n",
       "    <tr>\n",
       "      <td>335864</td>\n",
       "      <td>B01HJ84SGM</td>\n",
       "      <td>5.0</td>\n",
       "      <td>2017-05-29</td>\n",
       "      <td>NOW D-Mannose 500 mg - 120 Veg Capsules (Pack ...</td>\n",
       "      <td>$55.63</td>\n",
       "      <td>NaN</td>\n",
       "      <td>All Beauty</td>\n",
       "      <td>2017-05-09</td>\n",
       "      <td>True</td>\n",
       "      <td>0</td>\n",
       "    </tr>\n",
       "    <tr>\n",
       "      <td>335865</td>\n",
       "      <td>B01HJ84SGM</td>\n",
       "      <td>5.0</td>\n",
       "      <td>2017-05-09</td>\n",
       "      <td>NOW D-Mannose 500 mg - 120 Veg Capsules (Pack ...</td>\n",
       "      <td>$55.63</td>\n",
       "      <td>NaN</td>\n",
       "      <td>All Beauty</td>\n",
       "      <td>2017-05-09</td>\n",
       "      <td>True</td>\n",
       "      <td>0</td>\n",
       "    </tr>\n",
       "    <tr>\n",
       "      <td>335866</td>\n",
       "      <td>B01HJASD20</td>\n",
       "      <td>1.0</td>\n",
       "      <td>2016-08-31</td>\n",
       "      <td>12 White Feather Shuttlecocks Birdies Badminto...</td>\n",
       "      <td>$12.99</td>\n",
       "      <td>GBSTORE</td>\n",
       "      <td>All Beauty</td>\n",
       "      <td>2016-08-31</td>\n",
       "      <td>False</td>\n",
       "      <td>0</td>\n",
       "    </tr>\n",
       "  </tbody>\n",
       "</table>\n",
       "<p>335867 rows × 10 columns</p>\n",
       "</div>"
      ],
      "text/plain": [
       "              asin  overall reviewTime  \\\n",
       "0       0143026860      1.0 2015-02-19   \n",
       "1       0143026860      4.0 2014-12-18   \n",
       "2       0143026860      4.0 2014-08-10   \n",
       "3       0143026860      5.0 2013-03-11   \n",
       "4       0143026860      5.0 2011-12-25   \n",
       "...            ...      ...        ...   \n",
       "335862  B01HJ84SGM      5.0 2017-10-03   \n",
       "335863  B01HJ84SGM      5.0 2017-08-24   \n",
       "335864  B01HJ84SGM      5.0 2017-05-29   \n",
       "335865  B01HJ84SGM      5.0 2017-05-09   \n",
       "335866  B01HJASD20      1.0 2016-08-31   \n",
       "\n",
       "                                                    title   price  \\\n",
       "0                                           Black Diamond     NaN   \n",
       "1                                           Black Diamond     NaN   \n",
       "2                                           Black Diamond     NaN   \n",
       "3                                           Black Diamond     NaN   \n",
       "4                                           Black Diamond     NaN   \n",
       "...                                                   ...     ...   \n",
       "335862  NOW D-Mannose 500 mg - 120 Veg Capsules (Pack ...  $55.63   \n",
       "335863  NOW D-Mannose 500 mg - 120 Veg Capsules (Pack ...  $55.63   \n",
       "335864  NOW D-Mannose 500 mg - 120 Veg Capsules (Pack ...  $55.63   \n",
       "335865  NOW D-Mannose 500 mg - 120 Veg Capsules (Pack ...  $55.63   \n",
       "335866  12 White Feather Shuttlecocks Birdies Badminto...  $12.99   \n",
       "\n",
       "                 brand    main_cat firstReviewTime  \\\n",
       "0       Swedish Beauty  All Beauty      2011-12-25   \n",
       "1       Swedish Beauty  All Beauty      2011-12-25   \n",
       "2       Swedish Beauty  All Beauty      2011-12-25   \n",
       "3       Swedish Beauty  All Beauty      2011-12-25   \n",
       "4       Swedish Beauty  All Beauty      2011-12-25   \n",
       "...                ...         ...             ...   \n",
       "335862             NaN  All Beauty      2017-05-09   \n",
       "335863             NaN  All Beauty      2017-05-09   \n",
       "335864             NaN  All Beauty      2017-05-09   \n",
       "335865             NaN  All Beauty      2017-05-09   \n",
       "335866         GBSTORE  All Beauty      2016-08-31   \n",
       "\n",
       "        reviewedByAtLeastSixMotnths  numMonthsSinceFirstReview  \n",
       "0                              True                         37  \n",
       "1                              True                         35  \n",
       "2                              True                         31  \n",
       "3                              True                         14  \n",
       "4                              True                          0  \n",
       "...                             ...                        ...  \n",
       "335862                         True                          4  \n",
       "335863                         True                          3  \n",
       "335864                         True                          0  \n",
       "335865                         True                          0  \n",
       "335866                        False                          0  \n",
       "\n",
       "[335867 rows x 10 columns]"
      ]
     },
     "execution_count": 32,
     "metadata": {},
     "output_type": "execute_result"
    }
   ],
   "source": [
    "#Sorted data\n",
    "DF"
   ]
  },
  {
   "cell_type": "code",
   "execution_count": 96,
   "metadata": {
    "ExecuteTime": {
     "end_time": "2019-11-04T16:13:17.962097Z",
     "start_time": "2019-11-04T16:13:14.062734Z"
    }
   },
   "outputs": [
    {
     "data": {
      "text/html": [
       "<div>\n",
       "<style scoped>\n",
       "    .dataframe tbody tr th:only-of-type {\n",
       "        vertical-align: middle;\n",
       "    }\n",
       "\n",
       "    .dataframe tbody tr th {\n",
       "        vertical-align: top;\n",
       "    }\n",
       "\n",
       "    .dataframe thead th {\n",
       "        text-align: right;\n",
       "    }\n",
       "</style>\n",
       "<table border=\"1\" class=\"dataframe\">\n",
       "  <thead>\n",
       "    <tr style=\"text-align: right;\">\n",
       "      <th></th>\n",
       "      <th>asin</th>\n",
       "      <th>overall</th>\n",
       "      <th>reviewTime</th>\n",
       "      <th>title</th>\n",
       "      <th>price</th>\n",
       "      <th>brand</th>\n",
       "      <th>main_cat</th>\n",
       "      <th>firstReviewTime</th>\n",
       "      <th>reviewedByAtLeastSixMotnths</th>\n",
       "      <th>numMonthsSinceFirstReview</th>\n",
       "    </tr>\n",
       "  </thead>\n",
       "  <tbody>\n",
       "    <tr>\n",
       "      <td>4</td>\n",
       "      <td>0143026860</td>\n",
       "      <td>5.0</td>\n",
       "      <td>2011-12-25</td>\n",
       "      <td>Black Diamond</td>\n",
       "      <td>NaN</td>\n",
       "      <td>Swedish Beauty</td>\n",
       "      <td>All Beauty</td>\n",
       "      <td>2011-12-25</td>\n",
       "      <td>True</td>\n",
       "      <td>0</td>\n",
       "    </tr>\n",
       "    <tr>\n",
       "      <td>19</td>\n",
       "      <td>014789302X</td>\n",
       "      <td>5.0</td>\n",
       "      <td>2016-09-26</td>\n",
       "      <td>12 Pc BLUE HEAVEN KAJAL\"HERBAL kajal With VITA...</td>\n",
       "      <td>$6.45</td>\n",
       "      <td>BLUE HEAVE</td>\n",
       "      <td>All Beauty</td>\n",
       "      <td>2016-03-26</td>\n",
       "      <td>True</td>\n",
       "      <td>6</td>\n",
       "    </tr>\n",
       "    <tr>\n",
       "      <td>20</td>\n",
       "      <td>014789302X</td>\n",
       "      <td>4.0</td>\n",
       "      <td>2016-08-05</td>\n",
       "      <td>12 Pc BLUE HEAVEN KAJAL\"HERBAL kajal With VITA...</td>\n",
       "      <td>$6.45</td>\n",
       "      <td>BLUE HEAVE</td>\n",
       "      <td>All Beauty</td>\n",
       "      <td>2016-03-26</td>\n",
       "      <td>True</td>\n",
       "      <td>4</td>\n",
       "    </tr>\n",
       "    <tr>\n",
       "      <td>21</td>\n",
       "      <td>014789302X</td>\n",
       "      <td>5.0</td>\n",
       "      <td>2016-07-29</td>\n",
       "      <td>12 Pc BLUE HEAVEN KAJAL\"HERBAL kajal With VITA...</td>\n",
       "      <td>$6.45</td>\n",
       "      <td>BLUE HEAVE</td>\n",
       "      <td>All Beauty</td>\n",
       "      <td>2016-03-26</td>\n",
       "      <td>True</td>\n",
       "      <td>4</td>\n",
       "    </tr>\n",
       "    <tr>\n",
       "      <td>22</td>\n",
       "      <td>014789302X</td>\n",
       "      <td>5.0</td>\n",
       "      <td>2016-06-18</td>\n",
       "      <td>12 Pc BLUE HEAVEN KAJAL\"HERBAL kajal With VITA...</td>\n",
       "      <td>$6.45</td>\n",
       "      <td>BLUE HEAVE</td>\n",
       "      <td>All Beauty</td>\n",
       "      <td>2016-03-26</td>\n",
       "      <td>True</td>\n",
       "      <td>2</td>\n",
       "    </tr>\n",
       "    <tr>\n",
       "      <td>...</td>\n",
       "      <td>...</td>\n",
       "      <td>...</td>\n",
       "      <td>...</td>\n",
       "      <td>...</td>\n",
       "      <td>...</td>\n",
       "      <td>...</td>\n",
       "      <td>...</td>\n",
       "      <td>...</td>\n",
       "      <td>...</td>\n",
       "      <td>...</td>\n",
       "    </tr>\n",
       "    <tr>\n",
       "      <td>335857</td>\n",
       "      <td>B01HIUEEHO</td>\n",
       "      <td>5.0</td>\n",
       "      <td>2016-10-03</td>\n",
       "      <td>Pokemon Plush 9.2 Inch / 23cm Gengar Doll Stuf...</td>\n",
       "      <td>$20.74</td>\n",
       "      <td>NaN</td>\n",
       "      <td>All Beauty</td>\n",
       "      <td>2016-10-03</td>\n",
       "      <td>True</td>\n",
       "      <td>0</td>\n",
       "    </tr>\n",
       "    <tr>\n",
       "      <td>335862</td>\n",
       "      <td>B01HJ84SGM</td>\n",
       "      <td>5.0</td>\n",
       "      <td>2017-10-03</td>\n",
       "      <td>NOW D-Mannose 500 mg - 120 Veg Capsules (Pack ...</td>\n",
       "      <td>$55.63</td>\n",
       "      <td>NaN</td>\n",
       "      <td>All Beauty</td>\n",
       "      <td>2017-05-09</td>\n",
       "      <td>True</td>\n",
       "      <td>4</td>\n",
       "    </tr>\n",
       "    <tr>\n",
       "      <td>335863</td>\n",
       "      <td>B01HJ84SGM</td>\n",
       "      <td>5.0</td>\n",
       "      <td>2017-08-24</td>\n",
       "      <td>NOW D-Mannose 500 mg - 120 Veg Capsules (Pack ...</td>\n",
       "      <td>$55.63</td>\n",
       "      <td>NaN</td>\n",
       "      <td>All Beauty</td>\n",
       "      <td>2017-05-09</td>\n",
       "      <td>True</td>\n",
       "      <td>3</td>\n",
       "    </tr>\n",
       "    <tr>\n",
       "      <td>335864</td>\n",
       "      <td>B01HJ84SGM</td>\n",
       "      <td>5.0</td>\n",
       "      <td>2017-05-29</td>\n",
       "      <td>NOW D-Mannose 500 mg - 120 Veg Capsules (Pack ...</td>\n",
       "      <td>$55.63</td>\n",
       "      <td>NaN</td>\n",
       "      <td>All Beauty</td>\n",
       "      <td>2017-05-09</td>\n",
       "      <td>True</td>\n",
       "      <td>0</td>\n",
       "    </tr>\n",
       "    <tr>\n",
       "      <td>335865</td>\n",
       "      <td>B01HJ84SGM</td>\n",
       "      <td>5.0</td>\n",
       "      <td>2017-05-09</td>\n",
       "      <td>NOW D-Mannose 500 mg - 120 Veg Capsules (Pack ...</td>\n",
       "      <td>$55.63</td>\n",
       "      <td>NaN</td>\n",
       "      <td>All Beauty</td>\n",
       "      <td>2017-05-09</td>\n",
       "      <td>True</td>\n",
       "      <td>0</td>\n",
       "    </tr>\n",
       "  </tbody>\n",
       "</table>\n",
       "<p>65715 rows × 10 columns</p>\n",
       "</div>"
      ],
      "text/plain": [
       "              asin  overall reviewTime  \\\n",
       "4       0143026860      5.0 2011-12-25   \n",
       "19      014789302X      5.0 2016-09-26   \n",
       "20      014789302X      4.0 2016-08-05   \n",
       "21      014789302X      5.0 2016-07-29   \n",
       "22      014789302X      5.0 2016-06-18   \n",
       "...            ...      ...        ...   \n",
       "335857  B01HIUEEHO      5.0 2016-10-03   \n",
       "335862  B01HJ84SGM      5.0 2017-10-03   \n",
       "335863  B01HJ84SGM      5.0 2017-08-24   \n",
       "335864  B01HJ84SGM      5.0 2017-05-29   \n",
       "335865  B01HJ84SGM      5.0 2017-05-09   \n",
       "\n",
       "                                                    title   price  \\\n",
       "4                                           Black Diamond     NaN   \n",
       "19      12 Pc BLUE HEAVEN KAJAL\"HERBAL kajal With VITA...   $6.45   \n",
       "20      12 Pc BLUE HEAVEN KAJAL\"HERBAL kajal With VITA...   $6.45   \n",
       "21      12 Pc BLUE HEAVEN KAJAL\"HERBAL kajal With VITA...   $6.45   \n",
       "22      12 Pc BLUE HEAVEN KAJAL\"HERBAL kajal With VITA...   $6.45   \n",
       "...                                                   ...     ...   \n",
       "335857  Pokemon Plush 9.2 Inch / 23cm Gengar Doll Stuf...  $20.74   \n",
       "335862  NOW D-Mannose 500 mg - 120 Veg Capsules (Pack ...  $55.63   \n",
       "335863  NOW D-Mannose 500 mg - 120 Veg Capsules (Pack ...  $55.63   \n",
       "335864  NOW D-Mannose 500 mg - 120 Veg Capsules (Pack ...  $55.63   \n",
       "335865  NOW D-Mannose 500 mg - 120 Veg Capsules (Pack ...  $55.63   \n",
       "\n",
       "                 brand    main_cat firstReviewTime  \\\n",
       "4       Swedish Beauty  All Beauty      2011-12-25   \n",
       "19          BLUE HEAVE  All Beauty      2016-03-26   \n",
       "20          BLUE HEAVE  All Beauty      2016-03-26   \n",
       "21          BLUE HEAVE  All Beauty      2016-03-26   \n",
       "22          BLUE HEAVE  All Beauty      2016-03-26   \n",
       "...                ...         ...             ...   \n",
       "335857             NaN  All Beauty      2016-10-03   \n",
       "335862             NaN  All Beauty      2017-05-09   \n",
       "335863             NaN  All Beauty      2017-05-09   \n",
       "335864             NaN  All Beauty      2017-05-09   \n",
       "335865             NaN  All Beauty      2017-05-09   \n",
       "\n",
       "        reviewedByAtLeastSixMotnths  numMonthsSinceFirstReview  \n",
       "4                              True                          0  \n",
       "19                             True                          6  \n",
       "20                             True                          4  \n",
       "21                             True                          4  \n",
       "22                             True                          2  \n",
       "...                             ...                        ...  \n",
       "335857                         True                          0  \n",
       "335862                         True                          4  \n",
       "335863                         True                          3  \n",
       "335864                         True                          0  \n",
       "335865                         True                          0  \n",
       "\n",
       "[65715 rows x 10 columns]"
      ]
     },
     "execution_count": 96,
     "metadata": {},
     "output_type": "execute_result"
    }
   ],
   "source": [
    "#Select the products which have been reviewed more than 6 month and only take the data for the first 6 month.\n",
    "DFx = DF[(DF['reviewedByAtLeastSixMotnths'] == True) & (DF['numMonthsSinceFirstReview'] <=6)]\n",
    "DFx"
   ]
  },
  {
   "cell_type": "code",
   "execution_count": 105,
   "metadata": {
    "ExecuteTime": {
     "end_time": "2019-11-04T16:23:20.119722Z",
     "start_time": "2019-11-04T16:23:20.034363Z"
    }
   },
   "outputs": [
    {
     "data": {
      "text/html": [
       "<div>\n",
       "<style scoped>\n",
       "    .dataframe tbody tr th:only-of-type {\n",
       "        vertical-align: middle;\n",
       "    }\n",
       "\n",
       "    .dataframe tbody tr th {\n",
       "        vertical-align: top;\n",
       "    }\n",
       "\n",
       "    .dataframe thead th {\n",
       "        text-align: right;\n",
       "    }\n",
       "</style>\n",
       "<table border=\"1\" class=\"dataframe\">\n",
       "  <thead>\n",
       "    <tr style=\"text-align: right;\">\n",
       "      <th></th>\n",
       "      <th>asin</th>\n",
       "      <th>numMonthsSinceFirstReview</th>\n",
       "      <th>Count</th>\n",
       "    </tr>\n",
       "  </thead>\n",
       "  <tbody>\n",
       "    <tr>\n",
       "      <td>0</td>\n",
       "      <td>0143026860</td>\n",
       "      <td>0</td>\n",
       "      <td>1</td>\n",
       "    </tr>\n",
       "    <tr>\n",
       "      <td>1</td>\n",
       "      <td>014789302X</td>\n",
       "      <td>0</td>\n",
       "      <td>1</td>\n",
       "    </tr>\n",
       "    <tr>\n",
       "      <td>2</td>\n",
       "      <td>014789302X</td>\n",
       "      <td>1</td>\n",
       "      <td>1</td>\n",
       "    </tr>\n",
       "    <tr>\n",
       "      <td>3</td>\n",
       "      <td>014789302X</td>\n",
       "      <td>2</td>\n",
       "      <td>1</td>\n",
       "    </tr>\n",
       "    <tr>\n",
       "      <td>4</td>\n",
       "      <td>014789302X</td>\n",
       "      <td>4</td>\n",
       "      <td>2</td>\n",
       "    </tr>\n",
       "    <tr>\n",
       "      <td>...</td>\n",
       "      <td>...</td>\n",
       "      <td>...</td>\n",
       "      <td>...</td>\n",
       "    </tr>\n",
       "    <tr>\n",
       "      <td>33274</td>\n",
       "      <td>B01HJ84SGM</td>\n",
       "      <td>4</td>\n",
       "      <td>1</td>\n",
       "    </tr>\n",
       "    <tr>\n",
       "      <td>33275</td>\n",
       "      <td>B01HJEGTYK</td>\n",
       "      <td>0</td>\n",
       "      <td>1</td>\n",
       "    </tr>\n",
       "    <tr>\n",
       "      <td>33276</td>\n",
       "      <td>B01HJEGTYK</td>\n",
       "      <td>1</td>\n",
       "      <td>1</td>\n",
       "    </tr>\n",
       "    <tr>\n",
       "      <td>33277</td>\n",
       "      <td>B01HJEGTYK</td>\n",
       "      <td>3</td>\n",
       "      <td>2</td>\n",
       "    </tr>\n",
       "    <tr>\n",
       "      <td>33278</td>\n",
       "      <td>B01HJEGTYK</td>\n",
       "      <td>4</td>\n",
       "      <td>1</td>\n",
       "    </tr>\n",
       "  </tbody>\n",
       "</table>\n",
       "<p>33279 rows × 3 columns</p>\n",
       "</div>"
      ],
      "text/plain": [
       "             asin  numMonthsSinceFirstReview  Count\n",
       "0      0143026860                          0      1\n",
       "1      014789302X                          0      1\n",
       "2      014789302X                          1      1\n",
       "3      014789302X                          2      1\n",
       "4      014789302X                          4      2\n",
       "...           ...                        ...    ...\n",
       "33274  B01HJ84SGM                          4      1\n",
       "33275  B01HJEGTYK                          0      1\n",
       "33276  B01HJEGTYK                          1      1\n",
       "33277  B01HJEGTYK                          3      2\n",
       "33278  B01HJEGTYK                          4      1\n",
       "\n",
       "[33279 rows x 3 columns]"
      ]
     },
     "execution_count": 105,
     "metadata": {},
     "output_type": "execute_result"
    }
   ],
   "source": [
    "#Count the frequency of reviews in each month for each product\n",
    "DF_Count = DFx.groupby([\"asin\", \"numMonthsSinceFirstReview\"]).size().reset_index(name=\"Count\")"
   ]
  },
  {
   "cell_type": "code",
   "execution_count": 14,
   "metadata": {
    "ExecuteTime": {
     "end_time": "2019-11-04T08:19:31.515421Z",
     "start_time": "2019-11-04T08:19:31.502011Z"
    }
   },
   "outputs": [
    {
     "data": {
      "text/plain": [
       "Timedelta('1152 days 00:00:00')"
      ]
     },
     "execution_count": 14,
     "metadata": {},
     "output_type": "execute_result"
    }
   ],
   "source": [
    "DF['reviewTime'][0] - DF['firstReviewTime'][0]"
   ]
  },
  {
   "cell_type": "code",
   "execution_count": 126,
   "metadata": {
    "ExecuteTime": {
     "end_time": "2019-11-04T17:02:07.432170Z",
     "start_time": "2019-11-04T17:02:07.320245Z"
    }
   },
   "outputs": [
    {
     "data": {
      "text/html": [
       "<div>\n",
       "<style scoped>\n",
       "    .dataframe tbody tr th:only-of-type {\n",
       "        vertical-align: middle;\n",
       "    }\n",
       "\n",
       "    .dataframe tbody tr th {\n",
       "        vertical-align: top;\n",
       "    }\n",
       "\n",
       "    .dataframe thead th {\n",
       "        text-align: right;\n",
       "    }\n",
       "</style>\n",
       "<table border=\"1\" class=\"dataframe\">\n",
       "  <thead>\n",
       "    <tr style=\"text-align: right;\">\n",
       "      <th></th>\n",
       "      <th>asin</th>\n",
       "      <th>numMonthsSinceFirstReview</th>\n",
       "      <th>Count</th>\n",
       "      <th>Mean</th>\n",
       "      <th>MonthSum</th>\n",
       "    </tr>\n",
       "  </thead>\n",
       "  <tbody>\n",
       "    <tr>\n",
       "      <td>0</td>\n",
       "      <td>0143026860</td>\n",
       "      <td>0</td>\n",
       "      <td>1</td>\n",
       "      <td>1.452698</td>\n",
       "      <td>20162</td>\n",
       "    </tr>\n",
       "    <tr>\n",
       "      <td>1</td>\n",
       "      <td>014789302X</td>\n",
       "      <td>0</td>\n",
       "      <td>1</td>\n",
       "      <td>1.452698</td>\n",
       "      <td>20162</td>\n",
       "    </tr>\n",
       "    <tr>\n",
       "      <td>2</td>\n",
       "      <td>014789302X</td>\n",
       "      <td>1</td>\n",
       "      <td>1</td>\n",
       "      <td>2.304653</td>\n",
       "      <td>7232</td>\n",
       "    </tr>\n",
       "    <tr>\n",
       "      <td>3</td>\n",
       "      <td>014789302X</td>\n",
       "      <td>2</td>\n",
       "      <td>1</td>\n",
       "      <td>2.417555</td>\n",
       "      <td>7712</td>\n",
       "    </tr>\n",
       "    <tr>\n",
       "      <td>4</td>\n",
       "      <td>014789302X</td>\n",
       "      <td>4</td>\n",
       "      <td>2</td>\n",
       "      <td>2.390533</td>\n",
       "      <td>7676</td>\n",
       "    </tr>\n",
       "    <tr>\n",
       "      <td>...</td>\n",
       "      <td>...</td>\n",
       "      <td>...</td>\n",
       "      <td>...</td>\n",
       "      <td>...</td>\n",
       "      <td>...</td>\n",
       "    </tr>\n",
       "    <tr>\n",
       "      <td>33274</td>\n",
       "      <td>B01HJ84SGM</td>\n",
       "      <td>4</td>\n",
       "      <td>1</td>\n",
       "      <td>2.390533</td>\n",
       "      <td>7676</td>\n",
       "    </tr>\n",
       "    <tr>\n",
       "      <td>33275</td>\n",
       "      <td>B01HJEGTYK</td>\n",
       "      <td>0</td>\n",
       "      <td>1</td>\n",
       "      <td>1.452698</td>\n",
       "      <td>20162</td>\n",
       "    </tr>\n",
       "    <tr>\n",
       "      <td>33276</td>\n",
       "      <td>B01HJEGTYK</td>\n",
       "      <td>1</td>\n",
       "      <td>1</td>\n",
       "      <td>2.304653</td>\n",
       "      <td>7232</td>\n",
       "    </tr>\n",
       "    <tr>\n",
       "      <td>33277</td>\n",
       "      <td>B01HJEGTYK</td>\n",
       "      <td>3</td>\n",
       "      <td>2</td>\n",
       "      <td>2.370324</td>\n",
       "      <td>7540</td>\n",
       "    </tr>\n",
       "    <tr>\n",
       "      <td>33278</td>\n",
       "      <td>B01HJEGTYK</td>\n",
       "      <td>4</td>\n",
       "      <td>1</td>\n",
       "      <td>2.390533</td>\n",
       "      <td>7676</td>\n",
       "    </tr>\n",
       "  </tbody>\n",
       "</table>\n",
       "<p>33279 rows × 5 columns</p>\n",
       "</div>"
      ],
      "text/plain": [
       "             asin  numMonthsSinceFirstReview  Count      Mean  MonthSum\n",
       "0      0143026860                          0      1  1.452698     20162\n",
       "1      014789302X                          0      1  1.452698     20162\n",
       "2      014789302X                          1      1  2.304653      7232\n",
       "3      014789302X                          2      1  2.417555      7712\n",
       "4      014789302X                          4      2  2.390533      7676\n",
       "...           ...                        ...    ...       ...       ...\n",
       "33274  B01HJ84SGM                          4      1  2.390533      7676\n",
       "33275  B01HJEGTYK                          0      1  1.452698     20162\n",
       "33276  B01HJEGTYK                          1      1  2.304653      7232\n",
       "33277  B01HJEGTYK                          3      2  2.370324      7540\n",
       "33278  B01HJEGTYK                          4      1  2.390533      7676\n",
       "\n",
       "[33279 rows x 5 columns]"
      ]
     },
     "execution_count": 126,
     "metadata": {},
     "output_type": "execute_result"
    }
   ],
   "source": [
    "#Calculate the mean value of review of each month\n",
    "DF_Count.loc[:, 'Mean'] = DF_Count.groupby(['numMonthsSinceFirstReview'])['Count'].transform(np.mean)\n",
    "DF_Count.loc[:, 'MonthSum'] = DF_Count.groupby(['numMonthsSinceFirstReview'])['Count'].transform(np.sum)\n",
    "DF_Count"
   ]
  },
  {
   "cell_type": "code",
   "execution_count": 127,
   "metadata": {
    "ExecuteTime": {
     "end_time": "2019-11-04T17:04:37.760044Z",
     "start_time": "2019-11-04T17:04:36.570516Z"
    }
   },
   "outputs": [
    {
     "data": {
      "text/plain": [
       "(0, 5)"
      ]
     },
     "execution_count": 127,
     "metadata": {},
     "output_type": "execute_result"
    },
    {
     "data": {
      "image/png": "[encoded data removed]",
      "text/plain": [
       "<Figure size 432x288 with 1 Axes>"
      ]
     },
     "metadata": {
      "needs_background": "light"
     },
     "output_type": "display_data"
    }
   ],
   "source": [
    "#Just some plots attempts...\n",
    "##Boxplot\n",
    "sns.boxplot(x=\"numMonthsSinceFirstReview\", y=\"Count\", data = DF_Count, palette=\"Set3\", linewidth=1.5).set(\n",
    "xlabel='Review Month', ylabel='Count of Rating', \n",
    "    title = \"Count of Rating in first 6 Month for Beauty Product\")\n",
    "\n",
    "sns.lineplot(y= DF_Count.Mean,x = DF_Count.numMonthsSinceFirstReview, color = \"red\")\n",
    "\n",
    "\n",
    "plt.ylim(0,5)\n"
   ]
  },
  {
   "cell_type": "code",
   "execution_count": 159,
   "metadata": {
    "ExecuteTime": {
     "end_time": "2019-11-04T17:57:08.463015Z",
     "start_time": "2019-11-04T17:57:08.123489Z"
    }
   },
   "outputs": [
    {
     "data": {
      "image/png": "[encoded data removed]",
      "text/plain": [
       "<Figure size 432x288 with 1 Axes>"
      ]
     },
     "metadata": {
      "needs_background": "light"
     },
     "output_type": "display_data"
    }
   ],
   "source": [
    "##Barchart\n",
    "\n",
    "x = np.arange(7)\n",
    "y = list(DF_Count.MonthSum.unique())\n",
    "\n",
    "fig, ax = plt.subplots()\n",
    "\n",
    "plt.bar(x, y)\n",
    "plt.xlabel('Month')\n",
    "plt.xticks(x, DF_Count.numMonthsSinceFirstReview.unique())\n",
    "\n",
    "\n",
    "\n",
    "def autolabel(rects):\n",
    "    \"\"\"Attach a text label above each bar in *rects*, displaying its height.\"\"\"\n",
    "    for rect in rects:\n",
    "        height = rect.get_height()\n",
    "        ax.annotate('{}'.format(height),\n",
    "                    xy=(rect.get_x() + rect.get_width() / 2, height),\n",
    "                    xytext=(0, 3),  # 3 points vertical offset\n",
    "                    textcoords=\"offset points\",\n",
    "                    ha='center', va='bottom')\n",
    "\n",
    "autolabel(plt.bar(x, y))\n",
    "\n",
    "plt.show()"
   ]
  },
  {
   "cell_type": "code",
   "execution_count": 154,
   "metadata": {
    "ExecuteTime": {
     "end_time": "2019-11-04T17:50:39.308967Z",
     "start_time": "2019-11-04T17:50:39.261824Z"
    }
   },
   "outputs": [
    {
     "data": {
      "text/html": [
       "<div>\n",
       "<style scoped>\n",
       "    .dataframe tbody tr th:only-of-type {\n",
       "        vertical-align: middle;\n",
       "    }\n",
       "\n",
       "    .dataframe tbody tr th {\n",
       "        vertical-align: top;\n",
       "    }\n",
       "\n",
       "    .dataframe thead th {\n",
       "        text-align: right;\n",
       "    }\n",
       "</style>\n",
       "<table border=\"1\" class=\"dataframe\">\n",
       "  <thead>\n",
       "    <tr style=\"text-align: right;\">\n",
       "      <th></th>\n",
       "      <th>0</th>\n",
       "      <th>1</th>\n",
       "    </tr>\n",
       "  </thead>\n",
       "  <tbody>\n",
       "    <tr>\n",
       "      <td>0</td>\n",
       "      <td>20162</td>\n",
       "      <td>0</td>\n",
       "    </tr>\n",
       "    <tr>\n",
       "      <td>1</td>\n",
       "      <td>7232</td>\n",
       "      <td>1</td>\n",
       "    </tr>\n",
       "    <tr>\n",
       "      <td>2</td>\n",
       "      <td>7712</td>\n",
       "      <td>2</td>\n",
       "    </tr>\n",
       "    <tr>\n",
       "      <td>6</td>\n",
       "      <td>7540</td>\n",
       "      <td>3</td>\n",
       "    </tr>\n",
       "    <tr>\n",
       "      <td>3</td>\n",
       "      <td>7676</td>\n",
       "      <td>4</td>\n",
       "    </tr>\n",
       "    <tr>\n",
       "      <td>5</td>\n",
       "      <td>7480</td>\n",
       "      <td>5</td>\n",
       "    </tr>\n",
       "    <tr>\n",
       "      <td>4</td>\n",
       "      <td>7913</td>\n",
       "      <td>6</td>\n",
       "    </tr>\n",
       "  </tbody>\n",
       "</table>\n",
       "</div>"
      ],
      "text/plain": [
       "       0  1\n",
       "0  20162  0\n",
       "1   7232  1\n",
       "2   7712  2\n",
       "6   7540  3\n",
       "3   7676  4\n",
       "5   7480  5\n",
       "4   7913  6"
      ]
     },
     "execution_count": 154,
     "metadata": {},
     "output_type": "execute_result"
    }
   ],
   "source": [
    "A = pd.DataFrame(data = (DF_Count.MonthSum.unique(), DF_Count.numMonthsSinceFirstReview.unique())).T\n",
    "A.sort_values(by = [1])"
   ]
  },
  {
   "cell_type": "code",
   "execution_count": 148,
   "metadata": {
    "ExecuteTime": {
     "end_time": "2019-11-04T17:45:05.357898Z",
     "start_time": "2019-11-04T17:45:05.329724Z"
    }
   },
   "outputs": [
    {
     "data": {
      "text/plain": [
       "[7232, 7480, 7540, 7676, 7712, 7913, 20162]"
      ]
     },
     "execution_count": 148,
     "metadata": {},
     "output_type": "execute_result"
    }
   ],
   "source": [
    "A = list(DF_Count.MonthSum.unique())\n",
    "A.sort()\n",
    "A"
   ]
  },
  {
   "cell_type": "code",
   "execution_count": null,
   "metadata": {},
   "outputs": [],
   "source": []
  },
  {
   "cell_type": "code",
   "execution_count": null,
   "metadata": {},
   "outputs": [],
   "source": []
  },
  {
   "cell_type": "code",
   "execution_count": null,
   "metadata": {},
   "outputs": [],
   "source": []
  },
  {
   "cell_type": "code",
   "execution_count": null,
   "metadata": {},
   "outputs": [],
   "source": []
  },
  {
   "cell_type": "code",
   "execution_count": null,
   "metadata": {},
   "outputs": [],
   "source": []
  },
  {
   "cell_type": "code",
   "execution_count": null,
   "metadata": {},
   "outputs": [],
   "source": []
  },
  {
   "cell_type": "code",
   "execution_count": null,
   "metadata": {},
   "outputs": [],
   "source": []
  },
  {
   "cell_type": "code",
   "execution_count": null,
   "metadata": {},
   "outputs": [],
   "source": []
  },
  {
   "cell_type": "code",
   "execution_count": 92,
   "metadata": {
    "ExecuteTime": {
     "end_time": "2019-11-04T16:08:00.518419Z",
     "start_time": "2019-11-04T16:08:00.470539Z"
    }
   },
   "outputs": [
    {
     "data": {
      "text/plain": [
       "p  q\n",
       "a  1    2\n",
       "   2    1\n",
       "b  1    1\n",
       "s  3    2\n",
       "dtype: int64"
      ]
     },
     "execution_count": 92,
     "metadata": {},
     "output_type": "execute_result"
    }
   ],
   "source": [
    "df.groupby([\"p\", \"q\"]).size()"
   ]
  },
  {
   "cell_type": "code",
   "execution_count": 106,
   "metadata": {
    "ExecuteTime": {
     "end_time": "2019-11-04T16:30:35.705902Z",
     "start_time": "2019-11-04T16:30:35.608586Z"
    }
   },
   "outputs": [
    {
     "data": {
      "text/html": [
       "<div>\n",
       "<style scoped>\n",
       "    .dataframe tbody tr th:only-of-type {\n",
       "        vertical-align: middle;\n",
       "    }\n",
       "\n",
       "    .dataframe tbody tr th {\n",
       "        vertical-align: top;\n",
       "    }\n",
       "\n",
       "    .dataframe thead th {\n",
       "        text-align: right;\n",
       "    }\n",
       "</style>\n",
       "<table border=\"1\" class=\"dataframe\">\n",
       "  <thead>\n",
       "    <tr style=\"text-align: right;\">\n",
       "      <th></th>\n",
       "      <th>p</th>\n",
       "      <th>q</th>\n",
       "    </tr>\n",
       "  </thead>\n",
       "  <tbody>\n",
       "    <tr>\n",
       "      <td>0</td>\n",
       "      <td>a</td>\n",
       "      <td>1</td>\n",
       "    </tr>\n",
       "    <tr>\n",
       "      <td>1</td>\n",
       "      <td>a</td>\n",
       "      <td>2</td>\n",
       "    </tr>\n",
       "    <tr>\n",
       "      <td>2</td>\n",
       "      <td>b</td>\n",
       "      <td>1</td>\n",
       "    </tr>\n",
       "    <tr>\n",
       "      <td>3</td>\n",
       "      <td>a</td>\n",
       "      <td>1</td>\n",
       "    </tr>\n",
       "    <tr>\n",
       "      <td>4</td>\n",
       "      <td>s</td>\n",
       "      <td>3</td>\n",
       "    </tr>\n",
       "    <tr>\n",
       "      <td>5</td>\n",
       "      <td>s</td>\n",
       "      <td>3</td>\n",
       "    </tr>\n",
       "  </tbody>\n",
       "</table>\n",
       "</div>"
      ],
      "text/plain": [
       "   p  q\n",
       "0  a  1\n",
       "1  a  2\n",
       "2  b  1\n",
       "3  a  1\n",
       "4  s  3\n",
       "5  s  3"
      ]
     },
     "execution_count": 106,
     "metadata": {},
     "output_type": "execute_result"
    }
   ],
   "source": [
    "df = pd.DataFrame({'p':('a','a','b','a','s','s'), 'q':(1,2,1,1,3,3)})"
   ]
  },
  {
   "cell_type": "code",
   "execution_count": 108,
   "metadata": {
    "ExecuteTime": {
     "end_time": "2019-11-04T16:32:22.628177Z",
     "start_time": "2019-11-04T16:32:22.546076Z"
    }
   },
   "outputs": [
    {
     "data": {
      "text/html": [
       "<div>\n",
       "<style scoped>\n",
       "    .dataframe tbody tr th:only-of-type {\n",
       "        vertical-align: middle;\n",
       "    }\n",
       "\n",
       "    .dataframe tbody tr th {\n",
       "        vertical-align: top;\n",
       "    }\n",
       "\n",
       "    .dataframe thead th {\n",
       "        text-align: right;\n",
       "    }\n",
       "</style>\n",
       "<table border=\"1\" class=\"dataframe\">\n",
       "  <thead>\n",
       "    <tr style=\"text-align: right;\">\n",
       "      <th></th>\n",
       "      <th>p</th>\n",
       "      <th>q</th>\n",
       "      <th>F</th>\n",
       "    </tr>\n",
       "  </thead>\n",
       "  <tbody>\n",
       "    <tr>\n",
       "      <td>0</td>\n",
       "      <td>a</td>\n",
       "      <td>1</td>\n",
       "      <td>2</td>\n",
       "    </tr>\n",
       "    <tr>\n",
       "      <td>1</td>\n",
       "      <td>a</td>\n",
       "      <td>2</td>\n",
       "      <td>1</td>\n",
       "    </tr>\n",
       "    <tr>\n",
       "      <td>2</td>\n",
       "      <td>b</td>\n",
       "      <td>1</td>\n",
       "      <td>1</td>\n",
       "    </tr>\n",
       "    <tr>\n",
       "      <td>3</td>\n",
       "      <td>s</td>\n",
       "      <td>3</td>\n",
       "      <td>2</td>\n",
       "    </tr>\n",
       "  </tbody>\n",
       "</table>\n",
       "</div>"
      ],
      "text/plain": [
       "   p  q  F\n",
       "0  a  1  2\n",
       "1  a  2  1\n",
       "2  b  1  1\n",
       "3  s  3  2"
      ]
     },
     "execution_count": 108,
     "metadata": {},
     "output_type": "execute_result"
    }
   ],
   "source": [
    "df = df.groupby([\"p\", \"q\"]).size().reset_index(name=\"F\")"
   ]
  },
  {
   "cell_type": "code",
   "execution_count": 109,
   "metadata": {
    "ExecuteTime": {
     "end_time": "2019-11-04T16:33:38.896607Z",
     "start_time": "2019-11-04T16:33:38.802522Z"
    }
   },
   "outputs": [
    {
     "data": {
      "text/html": [
       "<div>\n",
       "<style scoped>\n",
       "    .dataframe tbody tr th:only-of-type {\n",
       "        vertical-align: middle;\n",
       "    }\n",
       "\n",
       "    .dataframe tbody tr th {\n",
       "        vertical-align: top;\n",
       "    }\n",
       "\n",
       "    .dataframe thead th {\n",
       "        text-align: right;\n",
       "    }\n",
       "</style>\n",
       "<table border=\"1\" class=\"dataframe\">\n",
       "  <thead>\n",
       "    <tr style=\"text-align: right;\">\n",
       "      <th></th>\n",
       "      <th>p</th>\n",
       "      <th>q</th>\n",
       "      <th>F</th>\n",
       "      <th>mean</th>\n",
       "    </tr>\n",
       "  </thead>\n",
       "  <tbody>\n",
       "    <tr>\n",
       "      <td>0</td>\n",
       "      <td>a</td>\n",
       "      <td>1</td>\n",
       "      <td>2</td>\n",
       "      <td>1.5</td>\n",
       "    </tr>\n",
       "    <tr>\n",
       "      <td>1</td>\n",
       "      <td>a</td>\n",
       "      <td>2</td>\n",
       "      <td>1</td>\n",
       "      <td>1.0</td>\n",
       "    </tr>\n",
       "    <tr>\n",
       "      <td>2</td>\n",
       "      <td>b</td>\n",
       "      <td>1</td>\n",
       "      <td>1</td>\n",
       "      <td>1.5</td>\n",
       "    </tr>\n",
       "    <tr>\n",
       "      <td>3</td>\n",
       "      <td>s</td>\n",
       "      <td>3</td>\n",
       "      <td>2</td>\n",
       "      <td>2.0</td>\n",
       "    </tr>\n",
       "  </tbody>\n",
       "</table>\n",
       "</div>"
      ],
      "text/plain": [
       "   p  q  F  mean\n",
       "0  a  1  2   1.5\n",
       "1  a  2  1   1.0\n",
       "2  b  1  1   1.5\n",
       "3  s  3  2   2.0"
      ]
     },
     "execution_count": 109,
     "metadata": {},
     "output_type": "execute_result"
    }
   ],
   "source": [
    "df['mean'] = df.groupby(['q'])['F'].transform(np.mean)\n",
    "df"
   ]
  },
  {
   "cell_type": "code",
   "execution_count": 60,
   "metadata": {
    "ExecuteTime": {
     "end_time": "2019-11-04T15:36:18.746043Z",
     "start_time": "2019-11-04T15:36:18.697836Z"
    }
   },
   "outputs": [
    {
     "data": {
      "text/html": [
       "<div>\n",
       "<style scoped>\n",
       "    .dataframe tbody tr th:only-of-type {\n",
       "        vertical-align: middle;\n",
       "    }\n",
       "\n",
       "    .dataframe tbody tr th {\n",
       "        vertical-align: top;\n",
       "    }\n",
       "\n",
       "    .dataframe thead th {\n",
       "        text-align: right;\n",
       "    }\n",
       "</style>\n",
       "<table border=\"1\" class=\"dataframe\">\n",
       "  <thead>\n",
       "    <tr style=\"text-align: right;\">\n",
       "      <th></th>\n",
       "      <th>p</th>\n",
       "      <th>q</th>\n",
       "      <th>freq</th>\n",
       "    </tr>\n",
       "  </thead>\n",
       "  <tbody>\n",
       "    <tr>\n",
       "      <td>0</td>\n",
       "      <td>a</td>\n",
       "      <td>1</td>\n",
       "      <td>11</td>\n",
       "    </tr>\n",
       "    <tr>\n",
       "      <td>1</td>\n",
       "      <td>b</td>\n",
       "      <td>2</td>\n",
       "      <td>223</td>\n",
       "    </tr>\n",
       "    <tr>\n",
       "      <td>2</td>\n",
       "      <td>s</td>\n",
       "      <td>1</td>\n",
       "      <td>11</td>\n",
       "    </tr>\n",
       "    <tr>\n",
       "      <td>3</td>\n",
       "      <td>s</td>\n",
       "      <td>1</td>\n",
       "      <td>11</td>\n",
       "    </tr>\n",
       "    <tr>\n",
       "      <td>4</td>\n",
       "      <td>b</td>\n",
       "      <td>2</td>\n",
       "      <td>223</td>\n",
       "    </tr>\n",
       "    <tr>\n",
       "      <td>5</td>\n",
       "      <td>a</td>\n",
       "      <td>1</td>\n",
       "      <td>11</td>\n",
       "    </tr>\n",
       "    <tr>\n",
       "      <td>6</td>\n",
       "      <td>b</td>\n",
       "      <td>3</td>\n",
       "      <td>223</td>\n",
       "    </tr>\n",
       "  </tbody>\n",
       "</table>\n",
       "</div>"
      ],
      "text/plain": [
       "   p  q freq\n",
       "0  a  1   11\n",
       "1  b  2  223\n",
       "2  s  1   11\n",
       "3  s  1   11\n",
       "4  b  2  223\n",
       "5  a  1   11\n",
       "6  b  3  223"
      ]
     },
     "execution_count": 60,
     "metadata": {},
     "output_type": "execute_result"
    }
   ],
   "source": [
    "df['freq'] = df.groupby('p')['q'].transform(np.sum)\n",
    "df"
   ]
  },
  {
   "cell_type": "code",
   "execution_count": null,
   "metadata": {},
   "outputs": [],
   "source": []
  },
  {
   "cell_type": "code",
   "execution_count": null,
   "metadata": {},
   "outputs": [],
   "source": []
  }
 ],
 "metadata": {
  "kernelspec": {
   "display_name": "Python 3",
   "language": "python",
   "name": "python3"
  },
  "language_info": {
   "codemirror_mode": {
    "name": "ipython",
    "version": 3
   },
   "file_extension": ".py",
   "mimetype": "text/x-python",
   "name": "python",
   "nbconvert_exporter": "python",
   "pygments_lexer": "ipython3",
   "version": "3.7.3"
  },
  "toc": {
   "base_numbering": 1,
   "nav_menu": {},
   "number_sections": true,
   "sideBar": true,
   "skip_h1_title": false,
   "title_cell": "Table of Contents",
   "title_sidebar": "Contents",
   "toc_cell": false,
   "toc_position": {},
   "toc_section_display": true,
   "toc_window_display": false
  },
  "varInspector": {
   "cols": {
    "lenName": 16,
    "lenType": 16,
    "lenVar": 40
   },
   "kernels_config": {
    "python": {
     "delete_cmd_postfix": "",
     "delete_cmd_prefix": "del ",
     "library": "var_list.py",
     "varRefreshCmd": "print(var_dic_list())"
    },
    "r": {
     "delete_cmd_postfix": ") ",
     "delete_cmd_prefix": "rm(",
     "library": "var_list.r",
     "varRefreshCmd": "cat(var_dic_list()) "
    }
   },
   "types_to_exclude": [
    "module",
    "function",
    "builtin_function_or_method",
    "instance",
    "_Feature"
   ],
   "window_display": false
  }
 },
 "nbformat": 4,
 "nbformat_minor": 2
}
