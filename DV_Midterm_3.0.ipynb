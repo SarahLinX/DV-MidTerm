{
 "cells": [
  {
   "cell_type": "code",
   "execution_count": 1,
   "metadata": {
    "ExecuteTime": {
     "end_time": "2019-11-08T23:09:18.531460Z",
     "start_time": "2019-11-08T23:09:13.023640Z"
    }
   },
   "outputs": [],
   "source": [
    "import json\n",
    "from pathlib import Path\n",
    "from itertools import islice\n",
    "import pandas as pd\n",
    "import matplotlib.pyplot as plt\n",
    "import datetime\n",
    "import numpy as np\n",
    "import seaborn as sns"
   ]
  },
  {
   "cell_type": "code",
   "execution_count": 2,
   "metadata": {
    "ExecuteTime": {
     "end_time": "2019-11-08T23:09:20.572406Z",
     "start_time": "2019-11-08T23:09:20.566568Z"
    }
   },
   "outputs": [],
   "source": [
    "#Load json.\n",
    "def load_dataset(path: Path):\n",
    "    with open(path, 'r') as data_file:\n",
    "        for line in data_file:\n",
    "            yield json.loads(line)\n",
    "        "
   ]
  },
  {
   "cell_type": "code",
   "execution_count": 3,
   "metadata": {
    "ExecuteTime": {
     "end_time": "2019-11-08T23:09:22.271346Z",
     "start_time": "2019-11-08T23:09:22.262815Z"
    }
   },
   "outputs": [],
   "source": [
    "#Import data\n",
    "LuxuryB = load_dataset(\n",
    "    Path('/Users/linxisarah/Desktop/DV_MidTerm/amazon_data/Luxury_Beauty/Luxury_Beauty.json'))\n",
    "mLuxuryB = load_dataset(\n",
    "    Path('/Users/linxisarah/Desktop/DV_MidTerm/amazon_data/Luxury_Beauty/meta_Luxury_Beauty.json'))\n",
    "PrimePantry = load_dataset(\n",
    "    Path('/Users/linxisarah/Desktop/DV_MidTerm/amazon_data/Prime_Pantry/Prime_Pantry.json'))\n",
    "mPrimePantry = load_dataset(\n",
    "    Path('/Users/linxisarah/Desktop/DV_MidTerm/amazon_data/Prime_Pantry/meta_Prime_Pantry.json'))"
   ]
  },
  {
   "cell_type": "code",
   "execution_count": 4,
   "metadata": {
    "ExecuteTime": {
     "end_time": "2019-11-08T23:09:54.078774Z",
     "start_time": "2019-11-08T23:09:26.047415Z"
    }
   },
   "outputs": [],
   "source": [
    "#Format Data as DataFrame\n",
    "LuxuryB = pd.DataFrame(LuxuryB)\n",
    "mLuxuryB = pd.DataFrame(mLuxuryB)\n",
    "Prime = pd.DataFrame(PrimePantry)\n",
    "mPrime = pd.DataFrame(mPrimePantry)"
   ]
  },
  {
   "cell_type": "code",
   "execution_count": 5,
   "metadata": {
    "ExecuteTime": {
     "end_time": "2019-11-08T23:11:04.031424Z",
     "start_time": "2019-11-08T23:10:58.635293Z"
    }
   },
   "outputs": [
    {
     "name": "stderr",
     "output_type": "stream",
     "text": [
      "/Users/linxisarah/anaconda3/lib/python3.7/site-packages/pandas/core/frame.py:4102: SettingWithCopyWarning: \n",
      "A value is trying to be set on a copy of a slice from a DataFrame\n",
      "\n",
      "See the caveats in the documentation: http://pandas.pydata.org/pandas-docs/stable/user_guide/indexing.html#returning-a-view-versus-a-copy\n",
      "  errors=errors,\n"
     ]
    }
   ],
   "source": [
    "#Tidy the data for Luxury Beauty\n",
    "LuxuryB = LuxuryB.loc[:, ['asin', 'overall', 'reviewTime','verified']]\n",
    "\n",
    "#Only select the data where the verified purchase is Ture.\n",
    "LuxuryBT = LuxuryB[LuxuryB['verified'] == True]\n",
    "LuxuryBT.drop(['verified'], axis = 1, inplace = True)\n",
    "\n",
    "mLuxuryB = mLuxuryB.loc[:, ['asin', 'title', 'price', 'brand', 'main_cat']]\n",
    "DF1 = pd.merge(LuxuryBT, mLuxuryB, how = \"inner\", on = \"asin\")\n",
    "DF1['reviewTime'] = pd.to_datetime(DF1.reviewTime)\n"
   ]
  },
  {
   "cell_type": "code",
   "execution_count": 6,
   "metadata": {
    "ExecuteTime": {
     "end_time": "2019-11-08T23:11:26.028356Z",
     "start_time": "2019-11-08T23:11:18.220444Z"
    }
   },
   "outputs": [],
   "source": [
    "# Redefine the brand by using the first name of the title\n",
    "##Please Note that the brand called 'var' might be the result for the titles which are unable to show the actual names.\n",
    "##We would still consider it, however it might be the sum for all products which don't have a proper title.\n",
    "# new data frame with split value columns \n",
    "new = DF1[\"title\"].str.split(\" \", n = 1, expand = True) \n",
    "  \n",
    "# making separate first name column from new data frame \n",
    "DF1[\"brand\"]= new[0] "
   ]
  },
  {
   "cell_type": "code",
   "execution_count": 7,
   "metadata": {
    "ExecuteTime": {
     "end_time": "2019-11-08T23:12:32.076285Z",
     "start_time": "2019-11-08T23:11:31.158554Z"
    }
   },
   "outputs": [
    {
     "name": "stderr",
     "output_type": "stream",
     "text": [
      "/Users/linxisarah/anaconda3/lib/python3.7/site-packages/pandas/core/indexing.py:1418: FutureWarning: \n",
      "Passing list-likes to .loc or [] with any missing label will raise\n",
      "KeyError in the future, you can use .reindex() as an alternative.\n",
      "\n",
      "See the documentation here:\n",
      "https://pandas.pydata.org/pandas-docs/stable/user_guide/indexing.html#deprecate-loc-reindex-listlike\n",
      "  return self._getitem_tuple(key)\n"
     ]
    }
   ],
   "source": [
    "#Tidy the data for Prime Pantry\n",
    "Prime = Prime.loc[:, ['asin', 'overall', 'reviewTime','verified']]\n",
    "#Only select the data where the verified purchase is Ture.\n",
    "PrimeT = Prime[Prime['verified'] == True]\n",
    "PrimeT.drop(['verified'], axis = 1, inplace = True)\n",
    "\n",
    "mPrime = mPrime.loc[:, ['asin', 'title', 'price', 'brand', 'main_cat']]\n",
    "DF2 = pd.merge(PrimeT, mPrime, how = \"inner\", on = \"asin\")\n",
    "DF2['reviewTime'] = pd.to_datetime(DF2.reviewTime)\n",
    "DF2['main_cat'].fillna('Prime Pantry', inplace=True)"
   ]
  },
  {
   "cell_type": "code",
   "execution_count": 8,
   "metadata": {
    "ExecuteTime": {
     "end_time": "2019-11-08T23:12:37.167837Z",
     "start_time": "2019-11-08T23:12:37.137166Z"
    }
   },
   "outputs": [
    {
     "name": "stdout",
     "output_type": "stream",
     "text": [
      "Some reviews are of products are not in the metadata\n"
     ]
    }
   ],
   "source": [
    "#Just a reminder here\n",
    "if PrimeT.shape[0] < DF2.shape[0]:\n",
    "    print(\"Some reviews are of products are not in the metadata\")"
   ]
  },
  {
   "cell_type": "code",
   "execution_count": 9,
   "metadata": {
    "ExecuteTime": {
     "end_time": "2019-11-08T23:12:40.371903Z",
     "start_time": "2019-11-08T23:12:40.348063Z"
    }
   },
   "outputs": [],
   "source": [
    "#Set-up the time range\n",
    "def add_first_review_time(data):\n",
    "    min_review_time = min(data['reviewTime'])\n",
    "    max_review_time = max(data['reviewTime'])\n",
    "    data['firstReviewTime'] = min_review_time\n",
    "    if ((max_review_time - min_review_time) / np.timedelta64(1, 'M')) >= 6:\n",
    "        reviewed_by_at_least_six_motnths = True\n",
    "    else:\n",
    "        reviewed_by_at_least_six_motnths = False\n",
    "    data['reviewedByAtLeastSixMotnths'] = reviewed_by_at_least_six_motnths\n",
    "    return data"
   ]
  },
  {
   "cell_type": "code",
   "execution_count": 10,
   "metadata": {
    "ExecuteTime": {
     "end_time": "2019-11-08T23:14:40.270645Z",
     "start_time": "2019-11-08T23:12:45.177273Z"
    }
   },
   "outputs": [],
   "source": [
    "DF1 = DF1.groupby('asin').apply(add_first_review_time)\n",
    "DF2 = DF2.groupby('asin').apply(add_first_review_time)"
   ]
  },
  {
   "cell_type": "code",
   "execution_count": 11,
   "metadata": {
    "ExecuteTime": {
     "end_time": "2019-11-08T23:15:16.049361Z",
     "start_time": "2019-11-08T23:15:15.787954Z"
    }
   },
   "outputs": [],
   "source": [
    "DF1['numMonthsSinceFirstReview'] = ((DF1['reviewTime'] - DF1['firstReviewTime']) / np.timedelta64(1, 'M')).astype(int)\n",
    "DF2['numMonthsSinceFirstReview'] = ((DF2['reviewTime'] - DF2['firstReviewTime']) / np.timedelta64(1, 'M')).astype(int)"
   ]
  },
  {
   "cell_type": "code",
   "execution_count": 12,
   "metadata": {
    "ExecuteTime": {
     "end_time": "2019-11-08T23:15:26.073366Z",
     "start_time": "2019-11-08T23:15:25.167095Z"
    }
   },
   "outputs": [],
   "source": [
    "#Select the products which have been reviewed more than 6 month and only take the data for the first 6 month.\n",
    "DF1x = DF1[(DF1['reviewedByAtLeastSixMotnths'] == True) & (DF1['numMonthsSinceFirstReview'] < 6)]\n",
    "DF2x = DF2[(DF2['reviewedByAtLeastSixMotnths'] == True) & (DF2['numMonthsSinceFirstReview'] < 6)]"
   ]
  },
  {
   "cell_type": "code",
   "execution_count": 13,
   "metadata": {
    "ExecuteTime": {
     "end_time": "2019-11-08T23:15:40.358108Z",
     "start_time": "2019-11-08T23:15:40.126514Z"
    }
   },
   "outputs": [],
   "source": [
    "#Count the frequency of reviews in each month for each product\n",
    "DF2_Count = DF2x.groupby([\"brand\", \"numMonthsSinceFirstReview\"]).size().reset_index(name=\"Count\")\n",
    "DF1_Count = DF1x.groupby([\"brand\", \"numMonthsSinceFirstReview\"]).size().reset_index(name=\"Count\")"
   ]
  },
  {
   "cell_type": "code",
   "execution_count": 14,
   "metadata": {
    "ExecuteTime": {
     "end_time": "2019-11-08T23:15:43.518870Z",
     "start_time": "2019-11-08T23:15:43.205560Z"
    }
   },
   "outputs": [],
   "source": [
    "#Calculate the mean value of review of each month\n",
    "DF1_Count.loc[:, 'MonthSum'] = DF1_Count.groupby(['numMonthsSinceFirstReview'])['Count'].transform(np.sum)\n",
    "DF1_Count.loc[:, 'Mean'] = DF1_Count['MonthSum']/len(DF1_Count.brand.unique())\n",
    "DF1_Count['Mean'] = round(DF1_Count['Mean'], 1)\n",
    "\n",
    "\n",
    "DF2_Count.loc[:, 'MonthSum'] = DF2_Count.groupby(['numMonthsSinceFirstReview'])['Count'].transform(np.sum)\n",
    "DF2_Count.loc[:, 'Mean'] = DF2_Count['MonthSum']/len(DF2_Count.brand.unique())\n",
    "DF2_Count['Mean'] = round(DF2_Count['Mean'], 1)"
   ]
  },
  {
   "cell_type": "code",
   "execution_count": 15,
   "metadata": {
    "ExecuteTime": {
     "end_time": "2019-11-08T23:15:53.245420Z",
     "start_time": "2019-11-08T23:15:53.136578Z"
    },
    "scrolled": true
   },
   "outputs": [
    {
     "data": {
      "text/html": [
       "<div>\n",
       "<style scoped>\n",
       "    .dataframe tbody tr th:only-of-type {\n",
       "        vertical-align: middle;\n",
       "    }\n",
       "\n",
       "    .dataframe tbody tr th {\n",
       "        vertical-align: top;\n",
       "    }\n",
       "\n",
       "    .dataframe thead th {\n",
       "        text-align: right;\n",
       "    }\n",
       "</style>\n",
       "<table border=\"1\" class=\"dataframe\">\n",
       "  <thead>\n",
       "    <tr style=\"text-align: right;\">\n",
       "      <th>Cat</th>\n",
       "      <th>numMonthsSinceFirstReview</th>\n",
       "      <th>Luxury Beauty</th>\n",
       "      <th>Prime Pantry</th>\n",
       "    </tr>\n",
       "  </thead>\n",
       "  <tbody>\n",
       "    <tr>\n",
       "      <td>0</td>\n",
       "      <td>0</td>\n",
       "      <td>19.0</td>\n",
       "      <td>8.9</td>\n",
       "    </tr>\n",
       "    <tr>\n",
       "      <td>1</td>\n",
       "      <td>1</td>\n",
       "      <td>5.8</td>\n",
       "      <td>4.4</td>\n",
       "    </tr>\n",
       "    <tr>\n",
       "      <td>2</td>\n",
       "      <td>2</td>\n",
       "      <td>6.1</td>\n",
       "      <td>5.2</td>\n",
       "    </tr>\n",
       "    <tr>\n",
       "      <td>3</td>\n",
       "      <td>3</td>\n",
       "      <td>5.9</td>\n",
       "      <td>5.3</td>\n",
       "    </tr>\n",
       "    <tr>\n",
       "      <td>4</td>\n",
       "      <td>4</td>\n",
       "      <td>6.6</td>\n",
       "      <td>5.8</td>\n",
       "    </tr>\n",
       "    <tr>\n",
       "      <td>5</td>\n",
       "      <td>5</td>\n",
       "      <td>6.7</td>\n",
       "      <td>5.8</td>\n",
       "    </tr>\n",
       "  </tbody>\n",
       "</table>\n",
       "</div>"
      ],
      "text/plain": [
       "Cat  numMonthsSinceFirstReview  Luxury Beauty  Prime Pantry\n",
       "0                            0           19.0           8.9\n",
       "1                            1            5.8           4.4\n",
       "2                            2            6.1           5.2\n",
       "3                            3            5.9           5.3\n",
       "4                            4            6.6           5.8\n",
       "5                            5            6.7           5.8"
      ]
     },
     "execution_count": 15,
     "metadata": {},
     "output_type": "execute_result"
    }
   ],
   "source": [
    "DF1_Count['Cat'] = 'Luxury Beauty'\n",
    "DF2_Count['Cat'] = 'Prime Pantry'\n",
    "\n",
    "P1_D = pd.concat([DF1_Count,DF2_Count])\n",
    "P1_D = P1_D[['numMonthsSinceFirstReview','Mean', 'Cat']]\n",
    "P1_D = P1_D.drop_duplicates(['numMonthsSinceFirstReview','Mean', 'Cat'])\n",
    "P1_D.sort_values('numMonthsSinceFirstReview', inplace=True)\n",
    "P1_D.reset_index(inplace=True)\n",
    "P1_D.drop(\"index\", axis=1, inplace=True)\n",
    "P1_D = P1_D.pivot(index='numMonthsSinceFirstReview', columns='Cat', values='Mean')\n",
    "P1_D.reset_index(inplace=True)\n",
    "P1_D"
   ]
  },
  {
   "cell_type": "code",
   "execution_count": 16,
   "metadata": {
    "ExecuteTime": {
     "end_time": "2019-11-08T23:16:55.374389Z",
     "start_time": "2019-11-08T23:16:55.343072Z"
    }
   },
   "outputs": [],
   "source": [
    "from matplotlib.lines import Line2D"
   ]
  },
  {
   "cell_type": "code",
   "execution_count": 17,
   "metadata": {
    "ExecuteTime": {
     "end_time": "2019-11-08T23:17:00.270006Z",
     "start_time": "2019-11-08T23:16:59.669770Z"
    }
   },
   "outputs": [],
   "source": [
    "#Dataset for Price\n",
    "DF1_Price = DF1x.groupby([\"asin\", \"numMonthsSinceFirstReview\"]).size().reset_index(name=\"Count\")\n",
    "Price1 = DF1x[['asin','price']]\n",
    "Price1 = Price1.drop_duplicates(['asin','price'])\n",
    "DF1_Price = pd.merge(Price1, DF1_Price, how = \"inner\", on = \"asin\")\n",
    "DF1_Price['Cat'] = 'Luxury Beauty'\n",
    "\n",
    "\n",
    "DF2_Price = DF2x.groupby([\"asin\", \"numMonthsSinceFirstReview\"]).size().reset_index(name=\"Count\")\n",
    "Price2 = DF2x[['asin','price']]\n",
    "Price2 = Price2.drop_duplicates(['asin','price'])\n",
    "DF2_Price = pd.merge(Price2, DF2_Price, how = \"inner\", on = \"asin\")\n",
    "DF2_Price['Cat'] = 'Prime Pantry'\n",
    "\n",
    "DF_Price = pd.concat([DF1_Price, DF2_Price])\n",
    "DF_Price.reset_index(inplace = True)\n",
    "DF_Price.drop('index', axis=1, inplace = True)"
   ]
  },
  {
   "cell_type": "code",
   "execution_count": 18,
   "metadata": {
    "ExecuteTime": {
     "end_time": "2019-11-08T23:17:03.973761Z",
     "start_time": "2019-11-08T23:17:03.951190Z"
    }
   },
   "outputs": [
    {
     "data": {
      "text/html": [
       "<div>\n",
       "<style scoped>\n",
       "    .dataframe tbody tr th:only-of-type {\n",
       "        vertical-align: middle;\n",
       "    }\n",
       "\n",
       "    .dataframe tbody tr th {\n",
       "        vertical-align: top;\n",
       "    }\n",
       "\n",
       "    .dataframe thead th {\n",
       "        text-align: right;\n",
       "    }\n",
       "</style>\n",
       "<table border=\"1\" class=\"dataframe\">\n",
       "  <thead>\n",
       "    <tr style=\"text-align: right;\">\n",
       "      <th></th>\n",
       "      <th>asin</th>\n",
       "      <th>price</th>\n",
       "      <th>numMonthsSinceFirstReview</th>\n",
       "      <th>Count</th>\n",
       "      <th>Cat</th>\n",
       "    </tr>\n",
       "  </thead>\n",
       "  <tbody>\n",
       "    <tr>\n",
       "      <td>0</td>\n",
       "      <td>B00004U9V2</td>\n",
       "      <td>$30.00</td>\n",
       "      <td>0</td>\n",
       "      <td>2</td>\n",
       "      <td>Luxury Beauty</td>\n",
       "    </tr>\n",
       "    <tr>\n",
       "      <td>1</td>\n",
       "      <td>B00004U9V2</td>\n",
       "      <td>$30.00</td>\n",
       "      <td>5</td>\n",
       "      <td>2</td>\n",
       "      <td>Luxury Beauty</td>\n",
       "    </tr>\n",
       "    <tr>\n",
       "      <td>2</td>\n",
       "      <td>B00005A77F</td>\n",
       "      <td>$15.99</td>\n",
       "      <td>0</td>\n",
       "      <td>2</td>\n",
       "      <td>Luxury Beauty</td>\n",
       "    </tr>\n",
       "    <tr>\n",
       "      <td>3</td>\n",
       "      <td>B00005A77F</td>\n",
       "      <td>$15.99</td>\n",
       "      <td>5</td>\n",
       "      <td>2</td>\n",
       "      <td>Luxury Beauty</td>\n",
       "    </tr>\n",
       "    <tr>\n",
       "      <td>4</td>\n",
       "      <td>B00005NDTD</td>\n",
       "      <td>$18.00</td>\n",
       "      <td>0</td>\n",
       "      <td>2</td>\n",
       "      <td>Luxury Beauty</td>\n",
       "    </tr>\n",
       "    <tr>\n",
       "      <td>...</td>\n",
       "      <td>...</td>\n",
       "      <td>...</td>\n",
       "      <td>...</td>\n",
       "      <td>...</td>\n",
       "      <td>...</td>\n",
       "    </tr>\n",
       "    <tr>\n",
       "      <td>49724</td>\n",
       "      <td>B01HI76EWA</td>\n",
       "      <td>$7.96</td>\n",
       "      <td>4</td>\n",
       "      <td>1</td>\n",
       "      <td>Prime Pantry</td>\n",
       "    </tr>\n",
       "    <tr>\n",
       "      <td>49725</td>\n",
       "      <td>B01HI76EWA</td>\n",
       "      <td>$7.96</td>\n",
       "      <td>5</td>\n",
       "      <td>1</td>\n",
       "      <td>Prime Pantry</td>\n",
       "    </tr>\n",
       "    <tr>\n",
       "      <td>49726</td>\n",
       "      <td>B01HI8JVI8</td>\n",
       "      <td>$6.82</td>\n",
       "      <td>0</td>\n",
       "      <td>1</td>\n",
       "      <td>Prime Pantry</td>\n",
       "    </tr>\n",
       "    <tr>\n",
       "      <td>49727</td>\n",
       "      <td>B01HI8JVI8</td>\n",
       "      <td>$6.82</td>\n",
       "      <td>1</td>\n",
       "      <td>1</td>\n",
       "      <td>Prime Pantry</td>\n",
       "    </tr>\n",
       "    <tr>\n",
       "      <td>49728</td>\n",
       "      <td>B01HI8JVI8</td>\n",
       "      <td>$6.82</td>\n",
       "      <td>2</td>\n",
       "      <td>2</td>\n",
       "      <td>Prime Pantry</td>\n",
       "    </tr>\n",
       "  </tbody>\n",
       "</table>\n",
       "<p>49729 rows × 5 columns</p>\n",
       "</div>"
      ],
      "text/plain": [
       "             asin   price  numMonthsSinceFirstReview  Count            Cat\n",
       "0      B00004U9V2  $30.00                          0      2  Luxury Beauty\n",
       "1      B00004U9V2  $30.00                          5      2  Luxury Beauty\n",
       "2      B00005A77F  $15.99                          0      2  Luxury Beauty\n",
       "3      B00005A77F  $15.99                          5      2  Luxury Beauty\n",
       "4      B00005NDTD  $18.00                          0      2  Luxury Beauty\n",
       "...           ...     ...                        ...    ...            ...\n",
       "49724  B01HI76EWA   $7.96                          4      1   Prime Pantry\n",
       "49725  B01HI76EWA   $7.96                          5      1   Prime Pantry\n",
       "49726  B01HI8JVI8   $6.82                          0      1   Prime Pantry\n",
       "49727  B01HI8JVI8   $6.82                          1      1   Prime Pantry\n",
       "49728  B01HI8JVI8   $6.82                          2      2   Prime Pantry\n",
       "\n",
       "[49729 rows x 5 columns]"
      ]
     },
     "execution_count": 18,
     "metadata": {},
     "output_type": "execute_result"
    }
   ],
   "source": [
    "DF_Price"
   ]
  },
  {
   "cell_type": "code",
   "execution_count": 19,
   "metadata": {
    "ExecuteTime": {
     "end_time": "2019-11-08T23:17:42.734389Z",
     "start_time": "2019-11-08T23:17:41.491726Z"
    }
   },
   "outputs": [
    {
     "data": {
      "text/html": [
       "<div>\n",
       "<style scoped>\n",
       "    .dataframe tbody tr th:only-of-type {\n",
       "        vertical-align: middle;\n",
       "    }\n",
       "\n",
       "    .dataframe tbody tr th {\n",
       "        vertical-align: top;\n",
       "    }\n",
       "\n",
       "    .dataframe thead th {\n",
       "        text-align: right;\n",
       "    }\n",
       "</style>\n",
       "<table border=\"1\" class=\"dataframe\">\n",
       "  <thead>\n",
       "    <tr style=\"text-align: right;\">\n",
       "      <th></th>\n",
       "      <th>asin</th>\n",
       "      <th>price</th>\n",
       "      <th>numMonthsSinceFirstReview</th>\n",
       "      <th>Count</th>\n",
       "      <th>Cat</th>\n",
       "      <th>Price_Range</th>\n",
       "    </tr>\n",
       "  </thead>\n",
       "  <tbody>\n",
       "    <tr>\n",
       "      <td>0</td>\n",
       "      <td>B00004U9V2</td>\n",
       "      <td>30.00</td>\n",
       "      <td>0</td>\n",
       "      <td>2</td>\n",
       "      <td>Luxury Beauty</td>\n",
       "      <td>Medium</td>\n",
       "    </tr>\n",
       "    <tr>\n",
       "      <td>1</td>\n",
       "      <td>B00004U9V2</td>\n",
       "      <td>30.00</td>\n",
       "      <td>5</td>\n",
       "      <td>2</td>\n",
       "      <td>Luxury Beauty</td>\n",
       "      <td>Medium</td>\n",
       "    </tr>\n",
       "    <tr>\n",
       "      <td>2</td>\n",
       "      <td>B00005A77F</td>\n",
       "      <td>15.99</td>\n",
       "      <td>0</td>\n",
       "      <td>2</td>\n",
       "      <td>Luxury Beauty</td>\n",
       "      <td>Low</td>\n",
       "    </tr>\n",
       "    <tr>\n",
       "      <td>3</td>\n",
       "      <td>B00005A77F</td>\n",
       "      <td>15.99</td>\n",
       "      <td>5</td>\n",
       "      <td>2</td>\n",
       "      <td>Luxury Beauty</td>\n",
       "      <td>Low</td>\n",
       "    </tr>\n",
       "    <tr>\n",
       "      <td>4</td>\n",
       "      <td>B00005NDTD</td>\n",
       "      <td>18.00</td>\n",
       "      <td>0</td>\n",
       "      <td>2</td>\n",
       "      <td>Luxury Beauty</td>\n",
       "      <td>Low</td>\n",
       "    </tr>\n",
       "    <tr>\n",
       "      <td>...</td>\n",
       "      <td>...</td>\n",
       "      <td>...</td>\n",
       "      <td>...</td>\n",
       "      <td>...</td>\n",
       "      <td>...</td>\n",
       "      <td>...</td>\n",
       "    </tr>\n",
       "    <tr>\n",
       "      <td>49724</td>\n",
       "      <td>B01HI76EWA</td>\n",
       "      <td>7.96</td>\n",
       "      <td>4</td>\n",
       "      <td>1</td>\n",
       "      <td>Prime Pantry</td>\n",
       "      <td>Medium</td>\n",
       "    </tr>\n",
       "    <tr>\n",
       "      <td>49725</td>\n",
       "      <td>B01HI76EWA</td>\n",
       "      <td>7.96</td>\n",
       "      <td>5</td>\n",
       "      <td>1</td>\n",
       "      <td>Prime Pantry</td>\n",
       "      <td>Medium</td>\n",
       "    </tr>\n",
       "    <tr>\n",
       "      <td>49726</td>\n",
       "      <td>B01HI8JVI8</td>\n",
       "      <td>6.82</td>\n",
       "      <td>0</td>\n",
       "      <td>1</td>\n",
       "      <td>Prime Pantry</td>\n",
       "      <td>Medium</td>\n",
       "    </tr>\n",
       "    <tr>\n",
       "      <td>49727</td>\n",
       "      <td>B01HI8JVI8</td>\n",
       "      <td>6.82</td>\n",
       "      <td>1</td>\n",
       "      <td>1</td>\n",
       "      <td>Prime Pantry</td>\n",
       "      <td>Medium</td>\n",
       "    </tr>\n",
       "    <tr>\n",
       "      <td>49728</td>\n",
       "      <td>B01HI8JVI8</td>\n",
       "      <td>6.82</td>\n",
       "      <td>2</td>\n",
       "      <td>2</td>\n",
       "      <td>Prime Pantry</td>\n",
       "      <td>Medium</td>\n",
       "    </tr>\n",
       "  </tbody>\n",
       "</table>\n",
       "<p>35181 rows × 6 columns</p>\n",
       "</div>"
      ],
      "text/plain": [
       "             asin  price  numMonthsSinceFirstReview  Count            Cat  \\\n",
       "0      B00004U9V2  30.00                          0      2  Luxury Beauty   \n",
       "1      B00004U9V2  30.00                          5      2  Luxury Beauty   \n",
       "2      B00005A77F  15.99                          0      2  Luxury Beauty   \n",
       "3      B00005A77F  15.99                          5      2  Luxury Beauty   \n",
       "4      B00005NDTD  18.00                          0      2  Luxury Beauty   \n",
       "...           ...    ...                        ...    ...            ...   \n",
       "49724  B01HI76EWA   7.96                          4      1   Prime Pantry   \n",
       "49725  B01HI76EWA   7.96                          5      1   Prime Pantry   \n",
       "49726  B01HI8JVI8   6.82                          0      1   Prime Pantry   \n",
       "49727  B01HI8JVI8   6.82                          1      1   Prime Pantry   \n",
       "49728  B01HI8JVI8   6.82                          2      2   Prime Pantry   \n",
       "\n",
       "      Price_Range  \n",
       "0          Medium  \n",
       "1          Medium  \n",
       "2             Low  \n",
       "3             Low  \n",
       "4             Low  \n",
       "...           ...  \n",
       "49724      Medium  \n",
       "49725      Medium  \n",
       "49726      Medium  \n",
       "49727      Medium  \n",
       "49728      Medium  \n",
       "\n",
       "[35181 rows x 6 columns]"
      ]
     },
     "execution_count": 19,
     "metadata": {},
     "output_type": "execute_result"
    }
   ],
   "source": [
    "DF_Price.dropna(inplace = True) \n",
    "# new data frame with split value columns \n",
    "new = DF_Price[\"price\"].str.split(\"$\", n = 1, expand = True) \n",
    "  \n",
    "# making separate first name column from new data frame \n",
    "DF_Price[\"price\"]= new[1] \n",
    "\n",
    "#Change price from string format to numerical format\n",
    "DF_Price['price'] = pd.to_numeric(DF_Price['price'], errors='coerce')\n",
    "\n",
    "DF_Price.loc[:, 'Price_Range'] = DF_Price.groupby(['Cat'])['price'].transform(lambda x: np.where(x > np.quantile(x, 0.75), 'High', \n",
    "         (np.where(x < np.quantile(x, 0.25), 'Low', 'Medium'))))\n",
    "\n",
    "DF_Price"
   ]
  },
  {
   "cell_type": "code",
   "execution_count": 20,
   "metadata": {
    "ExecuteTime": {
     "end_time": "2019-11-08T23:18:04.462194Z",
     "start_time": "2019-11-08T23:18:04.375244Z"
    }
   },
   "outputs": [
    {
     "data": {
      "text/html": [
       "<div>\n",
       "<style scoped>\n",
       "    .dataframe tbody tr th:only-of-type {\n",
       "        vertical-align: middle;\n",
       "    }\n",
       "\n",
       "    .dataframe tbody tr th {\n",
       "        vertical-align: top;\n",
       "    }\n",
       "\n",
       "    .dataframe thead th {\n",
       "        text-align: right;\n",
       "    }\n",
       "</style>\n",
       "<table border=\"1\" class=\"dataframe\">\n",
       "  <thead>\n",
       "    <tr style=\"text-align: right;\">\n",
       "      <th></th>\n",
       "      <th>Cat</th>\n",
       "      <th>Price_Range</th>\n",
       "      <th>Sum_of_asin</th>\n",
       "    </tr>\n",
       "  </thead>\n",
       "  <tbody>\n",
       "    <tr>\n",
       "      <td>0</td>\n",
       "      <td>Luxury Beauty</td>\n",
       "      <td>Medium</td>\n",
       "      <td>3051</td>\n",
       "    </tr>\n",
       "    <tr>\n",
       "      <td>2</td>\n",
       "      <td>Luxury Beauty</td>\n",
       "      <td>Low</td>\n",
       "      <td>1383</td>\n",
       "    </tr>\n",
       "    <tr>\n",
       "      <td>9</td>\n",
       "      <td>Luxury Beauty</td>\n",
       "      <td>High</td>\n",
       "      <td>1449</td>\n",
       "    </tr>\n",
       "    <tr>\n",
       "      <td>20184</td>\n",
       "      <td>Prime Pantry</td>\n",
       "      <td>Low</td>\n",
       "      <td>1319</td>\n",
       "    </tr>\n",
       "    <tr>\n",
       "      <td>20228</td>\n",
       "      <td>Prime Pantry</td>\n",
       "      <td>Medium</td>\n",
       "      <td>3143</td>\n",
       "    </tr>\n",
       "    <tr>\n",
       "      <td>20234</td>\n",
       "      <td>Prime Pantry</td>\n",
       "      <td>High</td>\n",
       "      <td>1675</td>\n",
       "    </tr>\n",
       "  </tbody>\n",
       "</table>\n",
       "</div>"
      ],
      "text/plain": [
       "                 Cat Price_Range  Sum_of_asin\n",
       "0      Luxury Beauty      Medium         3051\n",
       "2      Luxury Beauty         Low         1383\n",
       "9      Luxury Beauty        High         1449\n",
       "20184   Prime Pantry         Low         1319\n",
       "20228   Prime Pantry      Medium         3143\n",
       "20234   Prime Pantry        High         1675"
      ]
     },
     "execution_count": 20,
     "metadata": {},
     "output_type": "execute_result"
    }
   ],
   "source": [
    "#len(DF_Price.asin.unique())\n",
    "Products = DF_Price.groupby(['Cat',\"Price_Range\"])['asin'].transform(lambda x: len(x.unique()))\n",
    "Products = pd.DataFrame(Products)\n",
    "Products = Products.drop_duplicates(['asin'])\n",
    "\n",
    "#Match Data\n",
    "Products = pd.merge(Products, DF_Price, left_index = True, right_index = True)\n",
    "Products.rename({'asin_x': 'Sum_of_asin'}, axis=1, inplace=True)\n",
    "Products = Products[['Cat','Price_Range','Sum_of_asin']]\n",
    "\n",
    "Products"
   ]
  },
  {
   "cell_type": "code",
   "execution_count": 21,
   "metadata": {
    "ExecuteTime": {
     "end_time": "2019-11-08T23:20:28.338579Z",
     "start_time": "2019-11-08T23:20:28.292637Z"
    }
   },
   "outputs": [
    {
     "data": {
      "text/html": [
       "<div>\n",
       "<style scoped>\n",
       "    .dataframe tbody tr th:only-of-type {\n",
       "        vertical-align: middle;\n",
       "    }\n",
       "\n",
       "    .dataframe tbody tr th {\n",
       "        vertical-align: top;\n",
       "    }\n",
       "\n",
       "    .dataframe thead th {\n",
       "        text-align: right;\n",
       "    }\n",
       "</style>\n",
       "<table border=\"1\" class=\"dataframe\">\n",
       "  <thead>\n",
       "    <tr style=\"text-align: right;\">\n",
       "      <th></th>\n",
       "      <th>Price_Range</th>\n",
       "      <th>numMonthsSinceFirstReview</th>\n",
       "      <th>Cat</th>\n",
       "      <th>Count</th>\n",
       "      <th>Sum_of_asin</th>\n",
       "      <th>Mean</th>\n",
       "    </tr>\n",
       "  </thead>\n",
       "  <tbody>\n",
       "    <tr>\n",
       "      <td>0</td>\n",
       "      <td>High</td>\n",
       "      <td>0</td>\n",
       "      <td>Luxury Beauty</td>\n",
       "      <td>1449</td>\n",
       "      <td>1449</td>\n",
       "      <td>1.000000</td>\n",
       "    </tr>\n",
       "    <tr>\n",
       "      <td>1</td>\n",
       "      <td>High</td>\n",
       "      <td>1</td>\n",
       "      <td>Luxury Beauty</td>\n",
       "      <td>297</td>\n",
       "      <td>1449</td>\n",
       "      <td>0.204969</td>\n",
       "    </tr>\n",
       "    <tr>\n",
       "      <td>2</td>\n",
       "      <td>High</td>\n",
       "      <td>2</td>\n",
       "      <td>Luxury Beauty</td>\n",
       "      <td>324</td>\n",
       "      <td>1449</td>\n",
       "      <td>0.223602</td>\n",
       "    </tr>\n",
       "    <tr>\n",
       "      <td>3</td>\n",
       "      <td>High</td>\n",
       "      <td>3</td>\n",
       "      <td>Luxury Beauty</td>\n",
       "      <td>353</td>\n",
       "      <td>1449</td>\n",
       "      <td>0.243616</td>\n",
       "    </tr>\n",
       "    <tr>\n",
       "      <td>4</td>\n",
       "      <td>High</td>\n",
       "      <td>4</td>\n",
       "      <td>Luxury Beauty</td>\n",
       "      <td>369</td>\n",
       "      <td>1449</td>\n",
       "      <td>0.254658</td>\n",
       "    </tr>\n",
       "    <tr>\n",
       "      <td>5</td>\n",
       "      <td>High</td>\n",
       "      <td>5</td>\n",
       "      <td>Luxury Beauty</td>\n",
       "      <td>363</td>\n",
       "      <td>1449</td>\n",
       "      <td>0.250518</td>\n",
       "    </tr>\n",
       "    <tr>\n",
       "      <td>6</td>\n",
       "      <td>High</td>\n",
       "      <td>0</td>\n",
       "      <td>Prime Pantry</td>\n",
       "      <td>1675</td>\n",
       "      <td>1675</td>\n",
       "      <td>1.000000</td>\n",
       "    </tr>\n",
       "    <tr>\n",
       "      <td>7</td>\n",
       "      <td>High</td>\n",
       "      <td>1</td>\n",
       "      <td>Prime Pantry</td>\n",
       "      <td>698</td>\n",
       "      <td>1675</td>\n",
       "      <td>0.416716</td>\n",
       "    </tr>\n",
       "    <tr>\n",
       "      <td>8</td>\n",
       "      <td>High</td>\n",
       "      <td>2</td>\n",
       "      <td>Prime Pantry</td>\n",
       "      <td>771</td>\n",
       "      <td>1675</td>\n",
       "      <td>0.460299</td>\n",
       "    </tr>\n",
       "    <tr>\n",
       "      <td>9</td>\n",
       "      <td>High</td>\n",
       "      <td>3</td>\n",
       "      <td>Prime Pantry</td>\n",
       "      <td>771</td>\n",
       "      <td>1675</td>\n",
       "      <td>0.460299</td>\n",
       "    </tr>\n",
       "    <tr>\n",
       "      <td>10</td>\n",
       "      <td>High</td>\n",
       "      <td>4</td>\n",
       "      <td>Prime Pantry</td>\n",
       "      <td>826</td>\n",
       "      <td>1675</td>\n",
       "      <td>0.493134</td>\n",
       "    </tr>\n",
       "    <tr>\n",
       "      <td>11</td>\n",
       "      <td>High</td>\n",
       "      <td>5</td>\n",
       "      <td>Prime Pantry</td>\n",
       "      <td>805</td>\n",
       "      <td>1675</td>\n",
       "      <td>0.480597</td>\n",
       "    </tr>\n",
       "    <tr>\n",
       "      <td>12</td>\n",
       "      <td>Low</td>\n",
       "      <td>0</td>\n",
       "      <td>Luxury Beauty</td>\n",
       "      <td>1383</td>\n",
       "      <td>1383</td>\n",
       "      <td>1.000000</td>\n",
       "    </tr>\n",
       "    <tr>\n",
       "      <td>13</td>\n",
       "      <td>Low</td>\n",
       "      <td>1</td>\n",
       "      <td>Luxury Beauty</td>\n",
       "      <td>315</td>\n",
       "      <td>1383</td>\n",
       "      <td>0.227766</td>\n",
       "    </tr>\n",
       "    <tr>\n",
       "      <td>14</td>\n",
       "      <td>Low</td>\n",
       "      <td>2</td>\n",
       "      <td>Luxury Beauty</td>\n",
       "      <td>358</td>\n",
       "      <td>1383</td>\n",
       "      <td>0.258858</td>\n",
       "    </tr>\n",
       "    <tr>\n",
       "      <td>15</td>\n",
       "      <td>Low</td>\n",
       "      <td>3</td>\n",
       "      <td>Luxury Beauty</td>\n",
       "      <td>326</td>\n",
       "      <td>1383</td>\n",
       "      <td>0.235719</td>\n",
       "    </tr>\n",
       "    <tr>\n",
       "      <td>16</td>\n",
       "      <td>Low</td>\n",
       "      <td>4</td>\n",
       "      <td>Luxury Beauty</td>\n",
       "      <td>369</td>\n",
       "      <td>1383</td>\n",
       "      <td>0.266811</td>\n",
       "    </tr>\n",
       "    <tr>\n",
       "      <td>17</td>\n",
       "      <td>Low</td>\n",
       "      <td>5</td>\n",
       "      <td>Luxury Beauty</td>\n",
       "      <td>367</td>\n",
       "      <td>1383</td>\n",
       "      <td>0.265365</td>\n",
       "    </tr>\n",
       "    <tr>\n",
       "      <td>18</td>\n",
       "      <td>Low</td>\n",
       "      <td>0</td>\n",
       "      <td>Prime Pantry</td>\n",
       "      <td>1319</td>\n",
       "      <td>1319</td>\n",
       "      <td>1.000000</td>\n",
       "    </tr>\n",
       "    <tr>\n",
       "      <td>19</td>\n",
       "      <td>Low</td>\n",
       "      <td>1</td>\n",
       "      <td>Prime Pantry</td>\n",
       "      <td>725</td>\n",
       "      <td>1319</td>\n",
       "      <td>0.549659</td>\n",
       "    </tr>\n",
       "    <tr>\n",
       "      <td>20</td>\n",
       "      <td>Low</td>\n",
       "      <td>2</td>\n",
       "      <td>Prime Pantry</td>\n",
       "      <td>785</td>\n",
       "      <td>1319</td>\n",
       "      <td>0.595148</td>\n",
       "    </tr>\n",
       "    <tr>\n",
       "      <td>21</td>\n",
       "      <td>Low</td>\n",
       "      <td>3</td>\n",
       "      <td>Prime Pantry</td>\n",
       "      <td>793</td>\n",
       "      <td>1319</td>\n",
       "      <td>0.601213</td>\n",
       "    </tr>\n",
       "    <tr>\n",
       "      <td>22</td>\n",
       "      <td>Low</td>\n",
       "      <td>4</td>\n",
       "      <td>Prime Pantry</td>\n",
       "      <td>797</td>\n",
       "      <td>1319</td>\n",
       "      <td>0.604246</td>\n",
       "    </tr>\n",
       "    <tr>\n",
       "      <td>23</td>\n",
       "      <td>Low</td>\n",
       "      <td>5</td>\n",
       "      <td>Prime Pantry</td>\n",
       "      <td>786</td>\n",
       "      <td>1319</td>\n",
       "      <td>0.595906</td>\n",
       "    </tr>\n",
       "    <tr>\n",
       "      <td>24</td>\n",
       "      <td>Medium</td>\n",
       "      <td>0</td>\n",
       "      <td>Luxury Beauty</td>\n",
       "      <td>3051</td>\n",
       "      <td>3051</td>\n",
       "      <td>1.000000</td>\n",
       "    </tr>\n",
       "    <tr>\n",
       "      <td>25</td>\n",
       "      <td>Medium</td>\n",
       "      <td>1</td>\n",
       "      <td>Luxury Beauty</td>\n",
       "      <td>711</td>\n",
       "      <td>3051</td>\n",
       "      <td>0.233038</td>\n",
       "    </tr>\n",
       "    <tr>\n",
       "      <td>26</td>\n",
       "      <td>Medium</td>\n",
       "      <td>2</td>\n",
       "      <td>Luxury Beauty</td>\n",
       "      <td>696</td>\n",
       "      <td>3051</td>\n",
       "      <td>0.228122</td>\n",
       "    </tr>\n",
       "    <tr>\n",
       "      <td>27</td>\n",
       "      <td>Medium</td>\n",
       "      <td>3</td>\n",
       "      <td>Luxury Beauty</td>\n",
       "      <td>718</td>\n",
       "      <td>3051</td>\n",
       "      <td>0.235333</td>\n",
       "    </tr>\n",
       "    <tr>\n",
       "      <td>28</td>\n",
       "      <td>Medium</td>\n",
       "      <td>4</td>\n",
       "      <td>Luxury Beauty</td>\n",
       "      <td>722</td>\n",
       "      <td>3051</td>\n",
       "      <td>0.236644</td>\n",
       "    </tr>\n",
       "    <tr>\n",
       "      <td>29</td>\n",
       "      <td>Medium</td>\n",
       "      <td>5</td>\n",
       "      <td>Luxury Beauty</td>\n",
       "      <td>766</td>\n",
       "      <td>3051</td>\n",
       "      <td>0.251065</td>\n",
       "    </tr>\n",
       "    <tr>\n",
       "      <td>30</td>\n",
       "      <td>Medium</td>\n",
       "      <td>0</td>\n",
       "      <td>Prime Pantry</td>\n",
       "      <td>3143</td>\n",
       "      <td>3143</td>\n",
       "      <td>1.000000</td>\n",
       "    </tr>\n",
       "    <tr>\n",
       "      <td>31</td>\n",
       "      <td>Medium</td>\n",
       "      <td>1</td>\n",
       "      <td>Prime Pantry</td>\n",
       "      <td>1592</td>\n",
       "      <td>3143</td>\n",
       "      <td>0.506522</td>\n",
       "    </tr>\n",
       "    <tr>\n",
       "      <td>32</td>\n",
       "      <td>Medium</td>\n",
       "      <td>2</td>\n",
       "      <td>Prime Pantry</td>\n",
       "      <td>1658</td>\n",
       "      <td>3143</td>\n",
       "      <td>0.527521</td>\n",
       "    </tr>\n",
       "    <tr>\n",
       "      <td>33</td>\n",
       "      <td>Medium</td>\n",
       "      <td>3</td>\n",
       "      <td>Prime Pantry</td>\n",
       "      <td>1672</td>\n",
       "      <td>3143</td>\n",
       "      <td>0.531976</td>\n",
       "    </tr>\n",
       "    <tr>\n",
       "      <td>34</td>\n",
       "      <td>Medium</td>\n",
       "      <td>4</td>\n",
       "      <td>Prime Pantry</td>\n",
       "      <td>1698</td>\n",
       "      <td>3143</td>\n",
       "      <td>0.540248</td>\n",
       "    </tr>\n",
       "    <tr>\n",
       "      <td>35</td>\n",
       "      <td>Medium</td>\n",
       "      <td>5</td>\n",
       "      <td>Prime Pantry</td>\n",
       "      <td>1730</td>\n",
       "      <td>3143</td>\n",
       "      <td>0.550430</td>\n",
       "    </tr>\n",
       "  </tbody>\n",
       "</table>\n",
       "</div>"
      ],
      "text/plain": [
       "   Price_Range  numMonthsSinceFirstReview            Cat  Count  Sum_of_asin  \\\n",
       "0         High                          0  Luxury Beauty   1449         1449   \n",
       "1         High                          1  Luxury Beauty    297         1449   \n",
       "2         High                          2  Luxury Beauty    324         1449   \n",
       "3         High                          3  Luxury Beauty    353         1449   \n",
       "4         High                          4  Luxury Beauty    369         1449   \n",
       "5         High                          5  Luxury Beauty    363         1449   \n",
       "6         High                          0   Prime Pantry   1675         1675   \n",
       "7         High                          1   Prime Pantry    698         1675   \n",
       "8         High                          2   Prime Pantry    771         1675   \n",
       "9         High                          3   Prime Pantry    771         1675   \n",
       "10        High                          4   Prime Pantry    826         1675   \n",
       "11        High                          5   Prime Pantry    805         1675   \n",
       "12         Low                          0  Luxury Beauty   1383         1383   \n",
       "13         Low                          1  Luxury Beauty    315         1383   \n",
       "14         Low                          2  Luxury Beauty    358         1383   \n",
       "15         Low                          3  Luxury Beauty    326         1383   \n",
       "16         Low                          4  Luxury Beauty    369         1383   \n",
       "17         Low                          5  Luxury Beauty    367         1383   \n",
       "18         Low                          0   Prime Pantry   1319         1319   \n",
       "19         Low                          1   Prime Pantry    725         1319   \n",
       "20         Low                          2   Prime Pantry    785         1319   \n",
       "21         Low                          3   Prime Pantry    793         1319   \n",
       "22         Low                          4   Prime Pantry    797         1319   \n",
       "23         Low                          5   Prime Pantry    786         1319   \n",
       "24      Medium                          0  Luxury Beauty   3051         3051   \n",
       "25      Medium                          1  Luxury Beauty    711         3051   \n",
       "26      Medium                          2  Luxury Beauty    696         3051   \n",
       "27      Medium                          3  Luxury Beauty    718         3051   \n",
       "28      Medium                          4  Luxury Beauty    722         3051   \n",
       "29      Medium                          5  Luxury Beauty    766         3051   \n",
       "30      Medium                          0   Prime Pantry   3143         3143   \n",
       "31      Medium                          1   Prime Pantry   1592         3143   \n",
       "32      Medium                          2   Prime Pantry   1658         3143   \n",
       "33      Medium                          3   Prime Pantry   1672         3143   \n",
       "34      Medium                          4   Prime Pantry   1698         3143   \n",
       "35      Medium                          5   Prime Pantry   1730         3143   \n",
       "\n",
       "        Mean  \n",
       "0   1.000000  \n",
       "1   0.204969  \n",
       "2   0.223602  \n",
       "3   0.243616  \n",
       "4   0.254658  \n",
       "5   0.250518  \n",
       "6   1.000000  \n",
       "7   0.416716  \n",
       "8   0.460299  \n",
       "9   0.460299  \n",
       "10  0.493134  \n",
       "11  0.480597  \n",
       "12  1.000000  \n",
       "13  0.227766  \n",
       "14  0.258858  \n",
       "15  0.235719  \n",
       "16  0.266811  \n",
       "17  0.265365  \n",
       "18  1.000000  \n",
       "19  0.549659  \n",
       "20  0.595148  \n",
       "21  0.601213  \n",
       "22  0.604246  \n",
       "23  0.595906  \n",
       "24  1.000000  \n",
       "25  0.233038  \n",
       "26  0.228122  \n",
       "27  0.235333  \n",
       "28  0.236644  \n",
       "29  0.251065  \n",
       "30  1.000000  \n",
       "31  0.506522  \n",
       "32  0.527521  \n",
       "33  0.531976  \n",
       "34  0.540248  \n",
       "35  0.550430  "
      ]
     },
     "execution_count": 21,
     "metadata": {},
     "output_type": "execute_result"
    }
   ],
   "source": [
    "DF_PriceRange = DF_Price.groupby([\"Price_Range\", \"numMonthsSinceFirstReview\", 'Cat']).size().reset_index(name=\"Count\")\n",
    "DF_PriceRange = pd.merge(DF_PriceRange, Products, on=['Cat', 'Price_Range'])\n",
    "\n",
    "DF_PriceRange['Mean'] = DF_PriceRange['Count']/DF_PriceRange['Sum_of_asin']\n",
    "DF_PriceRange"
   ]
  },
  {
   "cell_type": "code",
   "execution_count": 22,
   "metadata": {
    "ExecuteTime": {
     "end_time": "2019-11-08T23:21:11.816941Z",
     "start_time": "2019-11-08T23:21:11.780977Z"
    }
   },
   "outputs": [
    {
     "data": {
      "text/html": [
       "<div>\n",
       "<style scoped>\n",
       "    .dataframe tbody tr th:only-of-type {\n",
       "        vertical-align: middle;\n",
       "    }\n",
       "\n",
       "    .dataframe tbody tr th {\n",
       "        vertical-align: top;\n",
       "    }\n",
       "\n",
       "    .dataframe thead th {\n",
       "        text-align: right;\n",
       "    }\n",
       "</style>\n",
       "<table border=\"1\" class=\"dataframe\">\n",
       "  <thead>\n",
       "    <tr style=\"text-align: right;\">\n",
       "      <th>Price_Range</th>\n",
       "      <th>Cat</th>\n",
       "      <th>numMonthsSinceFirstReview</th>\n",
       "      <th>High</th>\n",
       "      <th>Low</th>\n",
       "      <th>Medium</th>\n",
       "    </tr>\n",
       "  </thead>\n",
       "  <tbody>\n",
       "    <tr>\n",
       "      <td>0</td>\n",
       "      <td>Luxury Beauty</td>\n",
       "      <td>0</td>\n",
       "      <td>1.000000</td>\n",
       "      <td>1.000000</td>\n",
       "      <td>1.000000</td>\n",
       "    </tr>\n",
       "    <tr>\n",
       "      <td>1</td>\n",
       "      <td>Luxury Beauty</td>\n",
       "      <td>1</td>\n",
       "      <td>0.204969</td>\n",
       "      <td>0.227766</td>\n",
       "      <td>0.233038</td>\n",
       "    </tr>\n",
       "    <tr>\n",
       "      <td>2</td>\n",
       "      <td>Luxury Beauty</td>\n",
       "      <td>2</td>\n",
       "      <td>0.223602</td>\n",
       "      <td>0.258858</td>\n",
       "      <td>0.228122</td>\n",
       "    </tr>\n",
       "    <tr>\n",
       "      <td>3</td>\n",
       "      <td>Luxury Beauty</td>\n",
       "      <td>3</td>\n",
       "      <td>0.243616</td>\n",
       "      <td>0.235719</td>\n",
       "      <td>0.235333</td>\n",
       "    </tr>\n",
       "    <tr>\n",
       "      <td>4</td>\n",
       "      <td>Luxury Beauty</td>\n",
       "      <td>4</td>\n",
       "      <td>0.254658</td>\n",
       "      <td>0.266811</td>\n",
       "      <td>0.236644</td>\n",
       "    </tr>\n",
       "    <tr>\n",
       "      <td>5</td>\n",
       "      <td>Luxury Beauty</td>\n",
       "      <td>5</td>\n",
       "      <td>0.250518</td>\n",
       "      <td>0.265365</td>\n",
       "      <td>0.251065</td>\n",
       "    </tr>\n",
       "    <tr>\n",
       "      <td>6</td>\n",
       "      <td>Prime Pantry</td>\n",
       "      <td>0</td>\n",
       "      <td>1.000000</td>\n",
       "      <td>1.000000</td>\n",
       "      <td>1.000000</td>\n",
       "    </tr>\n",
       "    <tr>\n",
       "      <td>7</td>\n",
       "      <td>Prime Pantry</td>\n",
       "      <td>1</td>\n",
       "      <td>0.416716</td>\n",
       "      <td>0.549659</td>\n",
       "      <td>0.506522</td>\n",
       "    </tr>\n",
       "    <tr>\n",
       "      <td>8</td>\n",
       "      <td>Prime Pantry</td>\n",
       "      <td>2</td>\n",
       "      <td>0.460299</td>\n",
       "      <td>0.595148</td>\n",
       "      <td>0.527521</td>\n",
       "    </tr>\n",
       "    <tr>\n",
       "      <td>9</td>\n",
       "      <td>Prime Pantry</td>\n",
       "      <td>3</td>\n",
       "      <td>0.460299</td>\n",
       "      <td>0.601213</td>\n",
       "      <td>0.531976</td>\n",
       "    </tr>\n",
       "    <tr>\n",
       "      <td>10</td>\n",
       "      <td>Prime Pantry</td>\n",
       "      <td>4</td>\n",
       "      <td>0.493134</td>\n",
       "      <td>0.604246</td>\n",
       "      <td>0.540248</td>\n",
       "    </tr>\n",
       "    <tr>\n",
       "      <td>11</td>\n",
       "      <td>Prime Pantry</td>\n",
       "      <td>5</td>\n",
       "      <td>0.480597</td>\n",
       "      <td>0.595906</td>\n",
       "      <td>0.550430</td>\n",
       "    </tr>\n",
       "  </tbody>\n",
       "</table>\n",
       "</div>"
      ],
      "text/plain": [
       "Price_Range            Cat  numMonthsSinceFirstReview      High       Low  \\\n",
       "0            Luxury Beauty                          0  1.000000  1.000000   \n",
       "1            Luxury Beauty                          1  0.204969  0.227766   \n",
       "2            Luxury Beauty                          2  0.223602  0.258858   \n",
       "3            Luxury Beauty                          3  0.243616  0.235719   \n",
       "4            Luxury Beauty                          4  0.254658  0.266811   \n",
       "5            Luxury Beauty                          5  0.250518  0.265365   \n",
       "6             Prime Pantry                          0  1.000000  1.000000   \n",
       "7             Prime Pantry                          1  0.416716  0.549659   \n",
       "8             Prime Pantry                          2  0.460299  0.595148   \n",
       "9             Prime Pantry                          3  0.460299  0.601213   \n",
       "10            Prime Pantry                          4  0.493134  0.604246   \n",
       "11            Prime Pantry                          5  0.480597  0.595906   \n",
       "\n",
       "Price_Range    Medium  \n",
       "0            1.000000  \n",
       "1            0.233038  \n",
       "2            0.228122  \n",
       "3            0.235333  \n",
       "4            0.236644  \n",
       "5            0.251065  \n",
       "6            1.000000  \n",
       "7            0.506522  \n",
       "8            0.527521  \n",
       "9            0.531976  \n",
       "10           0.540248  \n",
       "11           0.550430  "
      ]
     },
     "execution_count": 22,
     "metadata": {},
     "output_type": "execute_result"
    }
   ],
   "source": [
    "P2_D = DF_PriceRange.groupby('Cat').apply(lambda x: x.pivot(index ='numMonthsSinceFirstReview', \n",
    "                                                columns= 'Price_Range', values='Mean'))\n",
    "\n",
    "P2_D.reset_index(inplace = True)\n",
    "P2_D"
   ]
  },
  {
   "cell_type": "code",
   "execution_count": 57,
   "metadata": {
    "ExecuteTime": {
     "end_time": "2019-11-09T00:31:24.510080Z",
     "start_time": "2019-11-09T00:31:23.034611Z"
    }
   },
   "outputs": [
    {
     "data": {
      "image/png": "[encoded data removed]",
      "text/plain": [
       "<Figure size 1152x1152 with 4 Axes>"
      ]
     },
     "metadata": {
      "needs_background": "light"
     },
     "output_type": "display_data"
    }
   ],
   "source": [
    "fig = plt.figure(figsize=(16, 16))\n",
    "\n",
    "# add chart\n",
    "AX0 = fig.add_subplot(2, 2, 1)\n",
    "AX1 = fig.add_subplot(2, 2, 2)\n",
    "AX2 = fig.add_subplot(2, 2, 3)\n",
    "AX3 = fig.add_subplot(2, 2, 4)\n",
    "\n",
    "\n",
    "AX0.grid(linestyle=\":\", linewidth=1)\n",
    "\n",
    "AX0.plot(P1_D['numMonthsSinceFirstReview'], P1_D['Luxury Beauty'], marker='', \n",
    "         color='salmon', linewidth=2, alpha = 1, label='Luxury Beauty')\n",
    "\n",
    "AX0.plot(P1_D['numMonthsSinceFirstReview'], P1_D['Prime Pantry'], marker='', \n",
    "         color='lightskyblue', linewidth=2, alpha = 1, label = 'Prime Pantry')\n",
    "\n",
    "AX0.legend(loc='best')\n",
    "\n",
    "## Add titles\n",
    "AX0.set_title(\"Average Count of Rating category by brand in the first 6 months of a product release\", \n",
    "              fontsize=12, fontweight=0)\n",
    "AX0.set_xlabel('Review Time(Months)')\n",
    "AX0.set_ylabel('Count of Ratings')\n",
    "\n",
    "\n",
    "#AX1\n",
    "AX1.grid(linestyle=\":\", linewidth=1)\n",
    "P2_D1 = P2_D[P2_D['Cat'] == 'Luxury Beauty']\n",
    "P2_D2 = P2_D[P2_D['Cat'] == 'Prime Pantry']\n",
    "\n",
    "palette1 = ['lightcoral', 'red','brown']\n",
    "palette2 = ['lightskyblue','deepskyblue','dodgerblue']\n",
    "\n",
    "# multiple line plot\n",
    "num=0\n",
    "for column in P2_D1.drop(['Cat','numMonthsSinceFirstReview'], axis=1):\n",
    "   num+=1\n",
    "   AX1.plot(P2_D1['numMonthsSinceFirstReview'], P2_D1[column], marker='', \n",
    "             color = palette1[num-1], linewidth=2, alpha=0.8)\n",
    "\n",
    "num=0\n",
    "for column in P2_D2.drop(['Cat','numMonthsSinceFirstReview'], axis=1):\n",
    "   num+=1\n",
    "   AX1.plot(P2_D2['numMonthsSinceFirstReview'], P2_D2[column], marker='', color = palette2[num-1], linewidth=2, alpha=0.8)\n",
    "\n",
    "num=0\n",
    "for i in P2_D1.values[5][1:]:\n",
    "   num+=1\n",
    "   name=list(P2_D1)[num]\n",
    "   if name != 'numMonthsSinceFirstReview':\n",
    "      AX1.text(5.5, i, name, size='small', horizontalalignment='right', color = palette1[num-2])\n",
    "\n",
    "num=0\n",
    "for i in P2_D2.values[5][1:]:\n",
    "   num+=1\n",
    "   name=list(P2_D2)[num]\n",
    "   if name != 'numMonthsSinceFirstReview':\n",
    "      AX1.text(5.5, i, name, size='small', horizontalalignment='right', color = palette2[num-2])\n",
    "\n",
    "legend_elements = [Line2D([0], [0], color='salmon', lw=2, label='Luxury Beauty'),\n",
    "                   Line2D([0], [0], color='lightskyblue', lw=2, label='Prime Pantry')]\n",
    "\n",
    "AX1.legend(handles=legend_elements, loc='best')\n",
    "\n",
    "## Add titles\n",
    "AX1.set_title(\"Average Count of Rating by Product in the First 6 Months of a Product Release\", \n",
    "              fontsize=12, fontweight=0)\n",
    "AX1.set_xlabel('Review Time(Months)')\n",
    "AX1.set_ylabel('Count of Rating')\n",
    "\n",
    "\n",
    "#Alternative for AX0\n",
    "AX2.grid(linestyle=\":\", linewidth=1)\n",
    "\n",
    "AX2.bar(P1_D['numMonthsSinceFirstReview']-0.15, P1_D['Luxury Beauty'],\n",
    "         color='salmon', linewidth=2, alpha = 1, label='Luxury Beauty', width = 0.3)\n",
    "\n",
    "AX2.bar(P1_D['numMonthsSinceFirstReview']+0.15, P1_D['Prime Pantry'],\n",
    "         color='lightskyblue', linewidth=2, alpha = 1, label = 'Prime Pantry', width = 0.3)\n",
    "\n",
    "AX2.legend()\n",
    "\n",
    "fig.tight_layout()\n",
    "\n",
    "plt.show()\n",
    "fig.savefig(\"Plot(XI LIN).pdf\")"
   ]
  },
  {
   "cell_type": "code",
   "execution_count": 52,
   "metadata": {
    "ExecuteTime": {
     "end_time": "2019-11-09T00:27:11.414179Z",
     "start_time": "2019-11-09T00:27:11.389635Z"
    }
   },
   "outputs": [
    {
     "data": {
      "text/plain": [
       "'indianred'"
      ]
     },
     "execution_count": 52,
     "metadata": {},
     "output_type": "execute_result"
    }
   ],
   "source": [
    "palettex = ['lightcoral', 'indianred','brown']\n",
    "palettex[2-1]"
   ]
  },
  {
   "cell_type": "code",
   "execution_count": null,
   "metadata": {},
   "outputs": [],
   "source": []
  },
  {
   "cell_type": "code",
   "execution_count": null,
   "metadata": {},
   "outputs": [],
   "source": []
  },
  {
   "cell_type": "code",
   "execution_count": null,
   "metadata": {},
   "outputs": [],
   "source": []
  },
  {
   "cell_type": "code",
   "execution_count": null,
   "metadata": {},
   "outputs": [],
   "source": []
  },
  {
   "cell_type": "code",
   "execution_count": null,
   "metadata": {},
   "outputs": [],
   "source": []
  },
  {
   "cell_type": "code",
   "execution_count": null,
   "metadata": {},
   "outputs": [],
   "source": []
  },
  {
   "cell_type": "code",
   "execution_count": null,
   "metadata": {},
   "outputs": [],
   "source": []
  },
  {
   "cell_type": "code",
   "execution_count": null,
   "metadata": {},
   "outputs": [],
   "source": []
  },
  {
   "cell_type": "code",
   "execution_count": null,
   "metadata": {},
   "outputs": [],
   "source": []
  },
  {
   "cell_type": "code",
   "execution_count": 197,
   "metadata": {
    "ExecuteTime": {
     "end_time": "2019-11-08T02:59:30.105181Z",
     "start_time": "2019-11-08T02:59:28.184565Z"
    }
   },
   "outputs": [
    {
     "data": {
      "text/plain": [
       "(0, 10)"
      ]
     },
     "execution_count": 197,
     "metadata": {},
     "output_type": "execute_result"
    },
    {
     "data": {
      "image/png": "[encoded data removed]",
      "text/plain": [
       "<Figure size 432x288 with 1 Axes>"
      ]
     },
     "metadata": {
      "needs_background": "light"
     },
     "output_type": "display_data"
    }
   ],
   "source": [
    "sns.boxplot(x=\"numMonthsSinceFirstReview\", y=\"Count\", hue=\"Price_Range\", data=DF_Price, palette=\"Set3\", linewidth=1.5).set(\n",
    "xlabel='Review Time(Months)', ylabel='Count of Ratings', \n",
    "    title = \"Count of Ratings for first 6 months in Prime Pantry with different price range\")\n",
    "\n",
    "plt.ylim(0,10)"
   ]
  },
  {
   "cell_type": "code",
   "execution_count": 195,
   "metadata": {
    "ExecuteTime": {
     "end_time": "2019-11-08T02:54:34.781716Z",
     "start_time": "2019-11-08T02:54:34.576602Z"
    }
   },
   "outputs": [
    {
     "data": {
      "text/html": [
       "<div>\n",
       "<style scoped>\n",
       "    .dataframe tbody tr th:only-of-type {\n",
       "        vertical-align: middle;\n",
       "    }\n",
       "\n",
       "    .dataframe tbody tr th {\n",
       "        vertical-align: top;\n",
       "    }\n",
       "\n",
       "    .dataframe thead th {\n",
       "        text-align: right;\n",
       "    }\n",
       "</style>\n",
       "<table border=\"1\" class=\"dataframe\">\n",
       "  <thead>\n",
       "    <tr style=\"text-align: right;\">\n",
       "      <th></th>\n",
       "      <th>Price_Range</th>\n",
       "      <th>numMonthsSinceFirstReview</th>\n",
       "      <th>Count</th>\n",
       "    </tr>\n",
       "  </thead>\n",
       "  <tbody>\n",
       "    <tr>\n",
       "      <td>0</td>\n",
       "      <td>high</td>\n",
       "      <td>0</td>\n",
       "      <td>1675</td>\n",
       "    </tr>\n",
       "    <tr>\n",
       "      <td>1</td>\n",
       "      <td>high</td>\n",
       "      <td>1</td>\n",
       "      <td>698</td>\n",
       "    </tr>\n",
       "    <tr>\n",
       "      <td>2</td>\n",
       "      <td>high</td>\n",
       "      <td>2</td>\n",
       "      <td>771</td>\n",
       "    </tr>\n",
       "    <tr>\n",
       "      <td>3</td>\n",
       "      <td>high</td>\n",
       "      <td>3</td>\n",
       "      <td>771</td>\n",
       "    </tr>\n",
       "    <tr>\n",
       "      <td>4</td>\n",
       "      <td>high</td>\n",
       "      <td>4</td>\n",
       "      <td>826</td>\n",
       "    </tr>\n",
       "    <tr>\n",
       "      <td>5</td>\n",
       "      <td>high</td>\n",
       "      <td>5</td>\n",
       "      <td>805</td>\n",
       "    </tr>\n",
       "    <tr>\n",
       "      <td>6</td>\n",
       "      <td>low</td>\n",
       "      <td>0</td>\n",
       "      <td>1319</td>\n",
       "    </tr>\n",
       "    <tr>\n",
       "      <td>7</td>\n",
       "      <td>low</td>\n",
       "      <td>1</td>\n",
       "      <td>725</td>\n",
       "    </tr>\n",
       "    <tr>\n",
       "      <td>8</td>\n",
       "      <td>low</td>\n",
       "      <td>2</td>\n",
       "      <td>785</td>\n",
       "    </tr>\n",
       "    <tr>\n",
       "      <td>9</td>\n",
       "      <td>low</td>\n",
       "      <td>3</td>\n",
       "      <td>793</td>\n",
       "    </tr>\n",
       "    <tr>\n",
       "      <td>10</td>\n",
       "      <td>low</td>\n",
       "      <td>4</td>\n",
       "      <td>797</td>\n",
       "    </tr>\n",
       "    <tr>\n",
       "      <td>11</td>\n",
       "      <td>low</td>\n",
       "      <td>5</td>\n",
       "      <td>786</td>\n",
       "    </tr>\n",
       "    <tr>\n",
       "      <td>12</td>\n",
       "      <td>medium</td>\n",
       "      <td>0</td>\n",
       "      <td>3143</td>\n",
       "    </tr>\n",
       "    <tr>\n",
       "      <td>13</td>\n",
       "      <td>medium</td>\n",
       "      <td>1</td>\n",
       "      <td>1592</td>\n",
       "    </tr>\n",
       "    <tr>\n",
       "      <td>14</td>\n",
       "      <td>medium</td>\n",
       "      <td>2</td>\n",
       "      <td>1658</td>\n",
       "    </tr>\n",
       "    <tr>\n",
       "      <td>15</td>\n",
       "      <td>medium</td>\n",
       "      <td>3</td>\n",
       "      <td>1672</td>\n",
       "    </tr>\n",
       "    <tr>\n",
       "      <td>16</td>\n",
       "      <td>medium</td>\n",
       "      <td>4</td>\n",
       "      <td>1698</td>\n",
       "    </tr>\n",
       "    <tr>\n",
       "      <td>17</td>\n",
       "      <td>medium</td>\n",
       "      <td>5</td>\n",
       "      <td>1730</td>\n",
       "    </tr>\n",
       "  </tbody>\n",
       "</table>\n",
       "</div>"
      ],
      "text/plain": [
       "   Price_Range  numMonthsSinceFirstReview  Count\n",
       "0         high                          0   1675\n",
       "1         high                          1    698\n",
       "2         high                          2    771\n",
       "3         high                          3    771\n",
       "4         high                          4    826\n",
       "5         high                          5    805\n",
       "6          low                          0   1319\n",
       "7          low                          1    725\n",
       "8          low                          2    785\n",
       "9          low                          3    793\n",
       "10         low                          4    797\n",
       "11         low                          5    786\n",
       "12      medium                          0   3143\n",
       "13      medium                          1   1592\n",
       "14      medium                          2   1658\n",
       "15      medium                          3   1672\n",
       "16      medium                          4   1698\n",
       "17      medium                          5   1730"
      ]
     },
     "execution_count": 195,
     "metadata": {},
     "output_type": "execute_result"
    }
   ],
   "source": [
    "\n",
    "\n"
   ]
  },
  {
   "cell_type": "code",
   "execution_count": 199,
   "metadata": {
    "ExecuteTime": {
     "end_time": "2019-11-08T03:05:20.304930Z",
     "start_time": "2019-11-08T03:05:20.289514Z"
    }
   },
   "outputs": [],
   "source": [
    "P2_D1 = DF_PriceRange.pivot(index='numMonthsSinceFirstReview', columns='Price_Range', values='Count')\n",
    "P2_D1.reset_index(inplace=True)\n"
   ]
  },
  {
   "cell_type": "code",
   "execution_count": 202,
   "metadata": {
    "ExecuteTime": {
     "end_time": "2019-11-08T03:08:15.368043Z",
     "start_time": "2019-11-08T03:08:15.097477Z"
    }
   },
   "outputs": [
    {
     "data": {
      "image/png": "[encoded data removed]",
      "text/plain": [
       "<Figure size 432x288 with 1 Axes>"
      ]
     },
     "metadata": {
      "needs_background": "light"
     },
     "output_type": "display_data"
    }
   ],
   "source": [
    "for column in P2_D1.drop('numMonthsSinceFirstReview', axis=1):\n",
    "    plt.plot(P2_D1['numMonthsSinceFirstReview'], P2_D1[column], \n",
    "             color='dimgrey', linewidth = 1, alpha = 0.6)\n",
    "\n",
    "plt.title(\"Count of Rating in first 6 month for brands in Prime Pantry by price range\", \n",
    "              fontsize=15, fontweight=0)\n",
    "plt.xlabel('Review Time(Months)')\n",
    "plt.ylabel('Count of Rating')\n",
    "\n",
    "plt.show()\n"
   ]
  },
  {
   "cell_type": "code",
   "execution_count": 191,
   "metadata": {
    "ExecuteTime": {
     "end_time": "2019-11-08T02:49:14.022990Z",
     "start_time": "2019-11-08T02:49:13.002426Z"
    }
   },
   "outputs": [
    {
     "data": {
      "text/plain": [
       "(array([   0.,    0.,   10.,   36.,  246.,  141.,  295.,  350.,  358.,\n",
       "         523.,  376.,  472.,  868.,  718., 1253.,  531.,  626.,  651.,\n",
       "         668., 1137.,  319.,  408.,  495.,  381., 1076.,  258.,  357.,\n",
       "         406.,  305.,  664.,  164.,  354.,  349.,  182.,  538.,   96.,\n",
       "         206.,  248.,  206.,  427.,  122.,  126.,  169.,  114.,  311.,\n",
       "          84.,  138.,  101.,   88.,  384.,   89.,   79.,   92.,  109.,\n",
       "         188.,   29.,   48.,  127.,   48.,  202.,   41.,   82.,   79.,\n",
       "          44.,  129.,   38.,   41.,   75.,   46.,  105.,   37.,   84.,\n",
       "          53.,   51.,  117.,   40.,   31.,   32.,   22.,  140.,   31.,\n",
       "          14.,   37.,   39.,  106.,   18.,   40.,   17.,   28.,   79.,\n",
       "          20.,   19.,   22.,   26.,   54.,   14.,   12.,   12.,   10.,\n",
       "          54.]),\n",
       " array([ 0. ,  0.2,  0.4,  0.6,  0.8,  1. ,  1.2,  1.4,  1.6,  1.8,  2. ,\n",
       "         2.2,  2.4,  2.6,  2.8,  3. ,  3.2,  3.4,  3.6,  3.8,  4. ,  4.2,\n",
       "         4.4,  4.6,  4.8,  5. ,  5.2,  5.4,  5.6,  5.8,  6. ,  6.2,  6.4,\n",
       "         6.6,  6.8,  7. ,  7.2,  7.4,  7.6,  7.8,  8. ,  8.2,  8.4,  8.6,\n",
       "         8.8,  9. ,  9.2,  9.4,  9.6,  9.8, 10. , 10.2, 10.4, 10.6, 10.8,\n",
       "        11. , 11.2, 11.4, 11.6, 11.8, 12. , 12.2, 12.4, 12.6, 12.8, 13. ,\n",
       "        13.2, 13.4, 13.6, 13.8, 14. , 14.2, 14.4, 14.6, 14.8, 15. , 15.2,\n",
       "        15.4, 15.6, 15.8, 16. , 16.2, 16.4, 16.6, 16.8, 17. , 17.2, 17.4,\n",
       "        17.6, 17.8, 18. , 18.2, 18.4, 18.6, 18.8, 19. , 19.2, 19.4, 19.6,\n",
       "        19.8, 20. ]),\n",
       " <a list of 100 Patch objects>)"
      ]
     },
     "execution_count": 191,
     "metadata": {},
     "output_type": "execute_result"
    },
    {
     "data": {
      "image/png": "[encoded data removed]",
      "text/plain": [
       "<Figure size 432x288 with 1 Axes>"
      ]
     },
     "metadata": {
      "needs_background": "light"
     },
     "output_type": "display_data"
    }
   ],
   "source": [
    "plt.hist(DF_Price['price'], bins=100, range=(0,20))"
   ]
  },
  {
   "cell_type": "code",
   "execution_count": 189,
   "metadata": {
    "ExecuteTime": {
     "end_time": "2019-11-08T02:48:03.358894Z",
     "start_time": "2019-11-08T02:48:03.271829Z"
    }
   },
   "outputs": [
    {
     "data": {
      "text/plain": [
       "0    2.99\n",
       "dtype: float64"
      ]
     },
     "execution_count": 189,
     "metadata": {},
     "output_type": "execute_result"
    }
   ],
   "source": [
    "DF_Price.price.mode()"
   ]
  },
  {
   "cell_type": "code",
   "execution_count": null,
   "metadata": {},
   "outputs": [],
   "source": []
  },
  {
   "cell_type": "code",
   "execution_count": null,
   "metadata": {},
   "outputs": [],
   "source": []
  },
  {
   "cell_type": "code",
   "execution_count": null,
   "metadata": {},
   "outputs": [],
   "source": []
  },
  {
   "cell_type": "code",
   "execution_count": null,
   "metadata": {},
   "outputs": [],
   "source": []
  },
  {
   "cell_type": "code",
   "execution_count": null,
   "metadata": {},
   "outputs": [],
   "source": []
  },
  {
   "cell_type": "code",
   "execution_count": null,
   "metadata": {},
   "outputs": [],
   "source": []
  },
  {
   "cell_type": "code",
   "execution_count": null,
   "metadata": {},
   "outputs": [],
   "source": []
  },
  {
   "cell_type": "code",
   "execution_count": null,
   "metadata": {},
   "outputs": [],
   "source": []
  },
  {
   "cell_type": "code",
   "execution_count": 127,
   "metadata": {
    "ExecuteTime": {
     "end_time": "2019-11-04T17:04:37.760044Z",
     "start_time": "2019-11-04T17:04:36.570516Z"
    }
   },
   "outputs": [
    {
     "data": {
      "text/plain": [
       "(0, 5)"
      ]
     },
     "execution_count": 127,
     "metadata": {},
     "output_type": "execute_result"
    },
    {
     "data": {
      "image/png": "[encoded data removed]",
      "text/plain": [
       "<Figure size 432x288 with 1 Axes>"
      ]
     },
     "metadata": {
      "needs_background": "light"
     },
     "output_type": "display_data"
    }
   ],
   "source": [
    "#Just some plots attempts...\n",
    "##Boxplot\n",
    "sns.boxplot(x=\"numMonthsSinceFirstReview\", y=\"Count\", data = DF_Count, palette=\"Set3\", linewidth=1.5).set(\n",
    "xlabel='Review Month', ylabel='Count of Rating', \n",
    "    title = \"Count of Rating in first 6 Month for Beauty Product\")\n",
    "\n",
    "sns.lineplot(y= DF_Count.Mean,x = DF_Count.numMonthsSinceFirstReview, color = \"red\")\n",
    "\n",
    "\n",
    "plt.ylim(0,5)\n"
   ]
  },
  {
   "cell_type": "code",
   "execution_count": null,
   "metadata": {},
   "outputs": [],
   "source": []
  },
  {
   "cell_type": "code",
   "execution_count": null,
   "metadata": {},
   "outputs": [],
   "source": []
  },
  {
   "cell_type": "code",
   "execution_count": null,
   "metadata": {},
   "outputs": [],
   "source": []
  },
  {
   "cell_type": "code",
   "execution_count": null,
   "metadata": {},
   "outputs": [],
   "source": []
  },
  {
   "cell_type": "code",
   "execution_count": null,
   "metadata": {},
   "outputs": [],
   "source": []
  },
  {
   "cell_type": "code",
   "execution_count": null,
   "metadata": {},
   "outputs": [],
   "source": []
  },
  {
   "cell_type": "code",
   "execution_count": 159,
   "metadata": {
    "ExecuteTime": {
     "end_time": "2019-11-04T17:57:08.463015Z",
     "start_time": "2019-11-04T17:57:08.123489Z"
    }
   },
   "outputs": [
    {
     "data": {
      "image/png": "[encoded data removed]",
      "text/plain": [
       "<Figure size 432x288 with 1 Axes>"
      ]
     },
     "metadata": {
      "needs_background": "light"
     },
     "output_type": "display_data"
    }
   ],
   "source": [
    "##Barchart\n",
    "\n",
    "x = np.arange(7)\n",
    "y = list(DF_Count.MonthSum.unique())\n",
    "\n",
    "fig, ax = plt.subplots()\n",
    "\n",
    "plt.bar(x, y)\n",
    "plt.xlabel('Month')\n",
    "plt.xticks(x, DF_Count.numMonthsSinceFirstReview.unique())\n",
    "\n",
    "\n",
    "\n",
    "def autolabel(rects):\n",
    "    \"\"\"Attach a text label above each bar in *rects*, displaying its height.\"\"\"\n",
    "    for rect in rects:\n",
    "        height = rect.get_height()\n",
    "        ax.annotate('{}'.format(height),\n",
    "                    xy=(rect.get_x() + rect.get_width() / 2, height),\n",
    "                    xytext=(0, 3),  # 3 points vertical offset\n",
    "                    textcoords=\"offset points\",\n",
    "                    ha='center', va='bottom')\n",
    "\n",
    "autolabel(plt.bar(x, y))\n",
    "\n",
    "plt.show()"
   ]
  },
  {
   "cell_type": "code",
   "execution_count": 154,
   "metadata": {
    "ExecuteTime": {
     "end_time": "2019-11-04T17:50:39.308967Z",
     "start_time": "2019-11-04T17:50:39.261824Z"
    }
   },
   "outputs": [
    {
     "data": {
      "text/html": [
       "<div>\n",
       "<style scoped>\n",
       "    .dataframe tbody tr th:only-of-type {\n",
       "        vertical-align: middle;\n",
       "    }\n",
       "\n",
       "    .dataframe tbody tr th {\n",
       "        vertical-align: top;\n",
       "    }\n",
       "\n",
       "    .dataframe thead th {\n",
       "        text-align: right;\n",
       "    }\n",
       "</style>\n",
       "<table border=\"1\" class=\"dataframe\">\n",
       "  <thead>\n",
       "    <tr style=\"text-align: right;\">\n",
       "      <th></th>\n",
       "      <th>0</th>\n",
       "      <th>1</th>\n",
       "    </tr>\n",
       "  </thead>\n",
       "  <tbody>\n",
       "    <tr>\n",
       "      <td>0</td>\n",
       "      <td>20162</td>\n",
       "      <td>0</td>\n",
       "    </tr>\n",
       "    <tr>\n",
       "      <td>1</td>\n",
       "      <td>7232</td>\n",
       "      <td>1</td>\n",
       "    </tr>\n",
       "    <tr>\n",
       "      <td>2</td>\n",
       "      <td>7712</td>\n",
       "      <td>2</td>\n",
       "    </tr>\n",
       "    <tr>\n",
       "      <td>6</td>\n",
       "      <td>7540</td>\n",
       "      <td>3</td>\n",
       "    </tr>\n",
       "    <tr>\n",
       "      <td>3</td>\n",
       "      <td>7676</td>\n",
       "      <td>4</td>\n",
       "    </tr>\n",
       "    <tr>\n",
       "      <td>5</td>\n",
       "      <td>7480</td>\n",
       "      <td>5</td>\n",
       "    </tr>\n",
       "    <tr>\n",
       "      <td>4</td>\n",
       "      <td>7913</td>\n",
       "      <td>6</td>\n",
       "    </tr>\n",
       "  </tbody>\n",
       "</table>\n",
       "</div>"
      ],
      "text/plain": [
       "       0  1\n",
       "0  20162  0\n",
       "1   7232  1\n",
       "2   7712  2\n",
       "6   7540  3\n",
       "3   7676  4\n",
       "5   7480  5\n",
       "4   7913  6"
      ]
     },
     "execution_count": 154,
     "metadata": {},
     "output_type": "execute_result"
    }
   ],
   "source": [
    "A = pd.DataFrame(data = (DF_Count.MonthSum.unique(), DF_Count.numMonthsSinceFirstReview.unique())).T\n",
    "A.sort_values(by = [1])"
   ]
  },
  {
   "cell_type": "code",
   "execution_count": 148,
   "metadata": {
    "ExecuteTime": {
     "end_time": "2019-11-04T17:45:05.357898Z",
     "start_time": "2019-11-04T17:45:05.329724Z"
    }
   },
   "outputs": [
    {
     "data": {
      "text/plain": [
       "[7232, 7480, 7540, 7676, 7712, 7913, 20162]"
      ]
     },
     "execution_count": 148,
     "metadata": {},
     "output_type": "execute_result"
    }
   ],
   "source": [
    "A = list(DF_Count.MonthSum.unique())\n",
    "A.sort()\n",
    "A"
   ]
  },
  {
   "cell_type": "code",
   "execution_count": null,
   "metadata": {},
   "outputs": [],
   "source": []
  },
  {
   "cell_type": "code",
   "execution_count": null,
   "metadata": {},
   "outputs": [],
   "source": []
  },
  {
   "cell_type": "code",
   "execution_count": null,
   "metadata": {},
   "outputs": [],
   "source": []
  },
  {
   "cell_type": "code",
   "execution_count": null,
   "metadata": {},
   "outputs": [],
   "source": []
  },
  {
   "cell_type": "code",
   "execution_count": null,
   "metadata": {},
   "outputs": [],
   "source": []
  },
  {
   "cell_type": "code",
   "execution_count": null,
   "metadata": {},
   "outputs": [],
   "source": []
  },
  {
   "cell_type": "code",
   "execution_count": null,
   "metadata": {},
   "outputs": [],
   "source": []
  },
  {
   "cell_type": "code",
   "execution_count": null,
   "metadata": {},
   "outputs": [],
   "source": []
  },
  {
   "cell_type": "code",
   "execution_count": 92,
   "metadata": {
    "ExecuteTime": {
     "end_time": "2019-11-04T16:08:00.518419Z",
     "start_time": "2019-11-04T16:08:00.470539Z"
    }
   },
   "outputs": [
    {
     "data": {
      "text/plain": [
       "p  q\n",
       "a  1    2\n",
       "   2    1\n",
       "b  1    1\n",
       "s  3    2\n",
       "dtype: int64"
      ]
     },
     "execution_count": 92,
     "metadata": {},
     "output_type": "execute_result"
    }
   ],
   "source": [
    "df.groupby([\"p\", \"q\"]).size()"
   ]
  },
  {
   "cell_type": "code",
   "execution_count": 106,
   "metadata": {
    "ExecuteTime": {
     "end_time": "2019-11-08T20:21:20.896205Z",
     "start_time": "2019-11-08T20:21:20.617501Z"
    }
   },
   "outputs": [
    {
     "data": {
      "text/html": [
       "<div>\n",
       "<style scoped>\n",
       "    .dataframe tbody tr th:only-of-type {\n",
       "        vertical-align: middle;\n",
       "    }\n",
       "\n",
       "    .dataframe tbody tr th {\n",
       "        vertical-align: top;\n",
       "    }\n",
       "\n",
       "    .dataframe thead th {\n",
       "        text-align: right;\n",
       "    }\n",
       "</style>\n",
       "<table border=\"1\" class=\"dataframe\">\n",
       "  <thead>\n",
       "    <tr style=\"text-align: right;\">\n",
       "      <th></th>\n",
       "      <th>p</th>\n",
       "      <th>q</th>\n",
       "    </tr>\n",
       "  </thead>\n",
       "  <tbody>\n",
       "    <tr>\n",
       "      <td>0</td>\n",
       "      <td>a</td>\n",
       "      <td>1</td>\n",
       "    </tr>\n",
       "    <tr>\n",
       "      <td>1</td>\n",
       "      <td>a</td>\n",
       "      <td>2</td>\n",
       "    </tr>\n",
       "    <tr>\n",
       "      <td>2</td>\n",
       "      <td>a</td>\n",
       "      <td>3</td>\n",
       "    </tr>\n",
       "    <tr>\n",
       "      <td>3</td>\n",
       "      <td>b</td>\n",
       "      <td>1</td>\n",
       "    </tr>\n",
       "    <tr>\n",
       "      <td>4</td>\n",
       "      <td>a</td>\n",
       "      <td>1</td>\n",
       "    </tr>\n",
       "    <tr>\n",
       "      <td>5</td>\n",
       "      <td>s</td>\n",
       "      <td>3</td>\n",
       "    </tr>\n",
       "    <tr>\n",
       "      <td>6</td>\n",
       "      <td>s</td>\n",
       "      <td>4</td>\n",
       "    </tr>\n",
       "  </tbody>\n",
       "</table>\n",
       "</div>"
      ],
      "text/plain": [
       "   p  q\n",
       "0  a  1\n",
       "1  a  2\n",
       "2  a  3\n",
       "3  b  1\n",
       "4  a  1\n",
       "5  s  3\n",
       "6  s  4"
      ]
     },
     "execution_count": 106,
     "metadata": {},
     "output_type": "execute_result"
    }
   ],
   "source": [
    "df = pd.DataFrame({'p':('a','a','a','b','a','s','s'), 'q':(1,2,3,1,1,3,4)})\n",
    "df"
   ]
  },
  {
   "cell_type": "code",
   "execution_count": 109,
   "metadata": {
    "ExecuteTime": {
     "end_time": "2019-11-08T20:22:43.323316Z",
     "start_time": "2019-11-08T20:22:43.299448Z"
    }
   },
   "outputs": [
    {
     "data": {
      "text/html": [
       "<div>\n",
       "<style scoped>\n",
       "    .dataframe tbody tr th:only-of-type {\n",
       "        vertical-align: middle;\n",
       "    }\n",
       "\n",
       "    .dataframe tbody tr th {\n",
       "        vertical-align: top;\n",
       "    }\n",
       "\n",
       "    .dataframe thead th {\n",
       "        text-align: right;\n",
       "    }\n",
       "</style>\n",
       "<table border=\"1\" class=\"dataframe\">\n",
       "  <thead>\n",
       "    <tr style=\"text-align: right;\">\n",
       "      <th></th>\n",
       "      <th>p</th>\n",
       "      <th>q</th>\n",
       "      <th>PriceRange</th>\n",
       "    </tr>\n",
       "  </thead>\n",
       "  <tbody>\n",
       "    <tr>\n",
       "      <td>0</td>\n",
       "      <td>a</td>\n",
       "      <td>1</td>\n",
       "      <td>low</td>\n",
       "    </tr>\n",
       "    <tr>\n",
       "      <td>1</td>\n",
       "      <td>a</td>\n",
       "      <td>2</td>\n",
       "      <td>medium</td>\n",
       "    </tr>\n",
       "    <tr>\n",
       "      <td>2</td>\n",
       "      <td>a</td>\n",
       "      <td>3</td>\n",
       "      <td>high</td>\n",
       "    </tr>\n",
       "    <tr>\n",
       "      <td>3</td>\n",
       "      <td>b</td>\n",
       "      <td>1</td>\n",
       "      <td>medium</td>\n",
       "    </tr>\n",
       "    <tr>\n",
       "      <td>4</td>\n",
       "      <td>a</td>\n",
       "      <td>1</td>\n",
       "      <td>low</td>\n",
       "    </tr>\n",
       "    <tr>\n",
       "      <td>5</td>\n",
       "      <td>s</td>\n",
       "      <td>3</td>\n",
       "      <td>low</td>\n",
       "    </tr>\n",
       "    <tr>\n",
       "      <td>6</td>\n",
       "      <td>s</td>\n",
       "      <td>4</td>\n",
       "      <td>high</td>\n",
       "    </tr>\n",
       "  </tbody>\n",
       "</table>\n",
       "</div>"
      ],
      "text/plain": [
       "   p  q PriceRange\n",
       "0  a  1        low\n",
       "1  a  2     medium\n",
       "2  a  3       high\n",
       "3  b  1     medium\n",
       "4  a  1        low\n",
       "5  s  3        low\n",
       "6  s  4       high"
      ]
     },
     "execution_count": 109,
     "metadata": {},
     "output_type": "execute_result"
    }
   ],
   "source": [
    "df.loc[:, 'PriceRange'] = df.groupby(['p'])['q'].transform(lambda x: np.where(x > np.quantile(x, 0.75), 'high', \n",
    "         (np.where(x < np.quantile(x, 0.40), 'low', 'medium'))))\n",
    "df"
   ]
  },
  {
   "cell_type": "code",
   "execution_count": 146,
   "metadata": {
    "ExecuteTime": {
     "end_time": "2019-11-08T01:41:03.156892Z",
     "start_time": "2019-11-08T01:41:03.059229Z"
    }
   },
   "outputs": [],
   "source": [
    "x = pd.DataFrame({'x':('5','4','3','5','7')})\n",
    "df = pd.concat([df, x], axis=1, sort=False)\n",
    "\n",
    "df = pd.DataFrame(df)\n",
    "\n",
    "#df.brand.unique()"
   ]
  },
  {
   "cell_type": "code",
   "execution_count": 105,
   "metadata": {
    "ExecuteTime": {
     "end_time": "2019-11-08T20:20:40.568096Z",
     "start_time": "2019-11-08T20:20:40.549396Z"
    }
   },
   "outputs": [
    {
     "data": {
      "text/html": [
       "<div>\n",
       "<style scoped>\n",
       "    .dataframe tbody tr th:only-of-type {\n",
       "        vertical-align: middle;\n",
       "    }\n",
       "\n",
       "    .dataframe tbody tr th {\n",
       "        vertical-align: top;\n",
       "    }\n",
       "\n",
       "    .dataframe thead th {\n",
       "        text-align: right;\n",
       "    }\n",
       "</style>\n",
       "<table border=\"1\" class=\"dataframe\">\n",
       "  <thead>\n",
       "    <tr style=\"text-align: right;\">\n",
       "      <th></th>\n",
       "      <th>p</th>\n",
       "      <th>q</th>\n",
       "      <th>PriceRange</th>\n",
       "    </tr>\n",
       "  </thead>\n",
       "  <tbody>\n",
       "    <tr>\n",
       "      <td>0</td>\n",
       "      <td>a</td>\n",
       "      <td>1</td>\n",
       "      <td>medium</td>\n",
       "    </tr>\n",
       "    <tr>\n",
       "      <td>1</td>\n",
       "      <td>a</td>\n",
       "      <td>2</td>\n",
       "      <td>high</td>\n",
       "    </tr>\n",
       "    <tr>\n",
       "      <td>2</td>\n",
       "      <td>b</td>\n",
       "      <td>1</td>\n",
       "      <td>medium</td>\n",
       "    </tr>\n",
       "    <tr>\n",
       "      <td>3</td>\n",
       "      <td>a</td>\n",
       "      <td>1</td>\n",
       "      <td>medium</td>\n",
       "    </tr>\n",
       "    <tr>\n",
       "      <td>4</td>\n",
       "      <td>s</td>\n",
       "      <td>3</td>\n",
       "      <td>low</td>\n",
       "    </tr>\n",
       "    <tr>\n",
       "      <td>5</td>\n",
       "      <td>s</td>\n",
       "      <td>4</td>\n",
       "      <td>high</td>\n",
       "    </tr>\n",
       "  </tbody>\n",
       "</table>\n",
       "</div>"
      ],
      "text/plain": [
       "   p  q PriceRange\n",
       "0  a  1     medium\n",
       "1  a  2       high\n",
       "2  b  1     medium\n",
       "3  a  1     medium\n",
       "4  s  3        low\n",
       "5  s  4       high"
      ]
     },
     "execution_count": 105,
     "metadata": {},
     "output_type": "execute_result"
    }
   ],
   "source": [
    "df"
   ]
  },
  {
   "cell_type": "code",
   "execution_count": 147,
   "metadata": {
    "ExecuteTime": {
     "end_time": "2019-11-08T01:41:07.935046Z",
     "start_time": "2019-11-08T01:41:07.894362Z"
    }
   },
   "outputs": [
    {
     "data": {
      "text/html": [
       "<div>\n",
       "<style scoped>\n",
       "    .dataframe tbody tr th:only-of-type {\n",
       "        vertical-align: middle;\n",
       "    }\n",
       "\n",
       "    .dataframe tbody tr th {\n",
       "        vertical-align: top;\n",
       "    }\n",
       "\n",
       "    .dataframe thead th {\n",
       "        text-align: right;\n",
       "    }\n",
       "</style>\n",
       "<table border=\"1\" class=\"dataframe\">\n",
       "  <thead>\n",
       "    <tr style=\"text-align: right;\">\n",
       "      <th></th>\n",
       "      <th>p</th>\n",
       "      <th>q</th>\n",
       "      <th>x</th>\n",
       "    </tr>\n",
       "  </thead>\n",
       "  <tbody>\n",
       "    <tr>\n",
       "      <td>0</td>\n",
       "      <td>a</td>\n",
       "      <td>1</td>\n",
       "      <td>5</td>\n",
       "    </tr>\n",
       "    <tr>\n",
       "      <td>1</td>\n",
       "      <td>a</td>\n",
       "      <td>2</td>\n",
       "      <td>4</td>\n",
       "    </tr>\n",
       "    <tr>\n",
       "      <td>2</td>\n",
       "      <td>b</td>\n",
       "      <td>1</td>\n",
       "      <td>3</td>\n",
       "    </tr>\n",
       "    <tr>\n",
       "      <td>3</td>\n",
       "      <td>a</td>\n",
       "      <td>1</td>\n",
       "      <td>5</td>\n",
       "    </tr>\n",
       "    <tr>\n",
       "      <td>4</td>\n",
       "      <td>s</td>\n",
       "      <td>3</td>\n",
       "      <td>7</td>\n",
       "    </tr>\n",
       "    <tr>\n",
       "      <td>5</td>\n",
       "      <td>s</td>\n",
       "      <td>3</td>\n",
       "      <td>NaN</td>\n",
       "    </tr>\n",
       "  </tbody>\n",
       "</table>\n",
       "</div>"
      ],
      "text/plain": [
       "   p  q    x\n",
       "0  a  1    5\n",
       "1  a  2    4\n",
       "2  b  1    3\n",
       "3  a  1    5\n",
       "4  s  3    7\n",
       "5  s  3  NaN"
      ]
     },
     "execution_count": 147,
     "metadata": {},
     "output_type": "execute_result"
    }
   ],
   "source": [
    "df"
   ]
  },
  {
   "cell_type": "code",
   "execution_count": 100,
   "metadata": {
    "ExecuteTime": {
     "end_time": "2019-11-07T23:56:23.664822Z",
     "start_time": "2019-11-07T23:56:23.624944Z"
    }
   },
   "outputs": [
    {
     "data": {
      "text/plain": [
       "array(['w', 'e', 'r', nan], dtype=object)"
      ]
     },
     "execution_count": 100,
     "metadata": {},
     "output_type": "execute_result"
    }
   ],
   "source": [
    "DF_Count = DFx.groupby([\"brand\", \"numMonthsSinceFirstReview\"]).size().reset_index(name=\"Count\")\n",
    "DF_Count"
   ]
  },
  {
   "cell_type": "code",
   "execution_count": 101,
   "metadata": {
    "ExecuteTime": {
     "end_time": "2019-11-07T23:57:54.508495Z",
     "start_time": "2019-11-07T23:57:54.467429Z"
    }
   },
   "outputs": [
    {
     "data": {
      "text/html": [
       "<div>\n",
       "<style scoped>\n",
       "    .dataframe tbody tr th:only-of-type {\n",
       "        vertical-align: middle;\n",
       "    }\n",
       "\n",
       "    .dataframe tbody tr th {\n",
       "        vertical-align: top;\n",
       "    }\n",
       "\n",
       "    .dataframe thead th {\n",
       "        text-align: right;\n",
       "    }\n",
       "</style>\n",
       "<table border=\"1\" class=\"dataframe\">\n",
       "  <thead>\n",
       "    <tr style=\"text-align: right;\">\n",
       "      <th></th>\n",
       "      <th>x</th>\n",
       "      <th>q</th>\n",
       "      <th>Count</th>\n",
       "    </tr>\n",
       "  </thead>\n",
       "  <tbody>\n",
       "    <tr>\n",
       "      <td>0</td>\n",
       "      <td>e</td>\n",
       "      <td>1</td>\n",
       "      <td>1</td>\n",
       "    </tr>\n",
       "    <tr>\n",
       "      <td>1</td>\n",
       "      <td>r</td>\n",
       "      <td>1</td>\n",
       "      <td>1</td>\n",
       "    </tr>\n",
       "    <tr>\n",
       "      <td>2</td>\n",
       "      <td>r</td>\n",
       "      <td>3</td>\n",
       "      <td>1</td>\n",
       "    </tr>\n",
       "    <tr>\n",
       "      <td>3</td>\n",
       "      <td>w</td>\n",
       "      <td>1</td>\n",
       "      <td>1</td>\n",
       "    </tr>\n",
       "    <tr>\n",
       "      <td>4</td>\n",
       "      <td>w</td>\n",
       "      <td>2</td>\n",
       "      <td>1</td>\n",
       "    </tr>\n",
       "  </tbody>\n",
       "</table>\n",
       "</div>"
      ],
      "text/plain": [
       "   x  q  Count\n",
       "0  e  1      1\n",
       "1  r  1      1\n",
       "2  r  3      1\n",
       "3  w  1      1\n",
       "4  w  2      1"
      ]
     },
     "execution_count": 101,
     "metadata": {},
     "output_type": "execute_result"
    }
   ],
   "source": [
    "df_C = df.groupby([\"x\", \"q\",'']).size().reset_index(name=\"Count\")\n",
    "df_C"
   ]
  },
  {
   "cell_type": "code",
   "execution_count": 76,
   "metadata": {
    "ExecuteTime": {
     "end_time": "2019-11-07T23:38:50.891783Z",
     "start_time": "2019-11-07T23:38:50.857638Z"
    }
   },
   "outputs": [
    {
     "data": {
      "text/html": [
       "<div>\n",
       "<style scoped>\n",
       "    .dataframe tbody tr th:only-of-type {\n",
       "        vertical-align: middle;\n",
       "    }\n",
       "\n",
       "    .dataframe tbody tr th {\n",
       "        vertical-align: top;\n",
       "    }\n",
       "\n",
       "    .dataframe thead th {\n",
       "        text-align: right;\n",
       "    }\n",
       "</style>\n",
       "<table border=\"1\" class=\"dataframe\">\n",
       "  <thead>\n",
       "    <tr style=\"text-align: right;\">\n",
       "      <th></th>\n",
       "      <th>p</th>\n",
       "      <th>q</th>\n",
       "      <th>F</th>\n",
       "    </tr>\n",
       "  </thead>\n",
       "  <tbody>\n",
       "    <tr>\n",
       "      <td>0</td>\n",
       "      <td>a</td>\n",
       "      <td>1</td>\n",
       "      <td>2</td>\n",
       "    </tr>\n",
       "    <tr>\n",
       "      <td>1</td>\n",
       "      <td>a</td>\n",
       "      <td>2</td>\n",
       "      <td>1</td>\n",
       "    </tr>\n",
       "    <tr>\n",
       "      <td>2</td>\n",
       "      <td>b</td>\n",
       "      <td>1</td>\n",
       "      <td>1</td>\n",
       "    </tr>\n",
       "    <tr>\n",
       "      <td>3</td>\n",
       "      <td>s</td>\n",
       "      <td>3</td>\n",
       "      <td>2</td>\n",
       "    </tr>\n",
       "  </tbody>\n",
       "</table>\n",
       "</div>"
      ],
      "text/plain": [
       "   p  q  F\n",
       "0  a  1  2\n",
       "1  a  2  1\n",
       "2  b  1  1\n",
       "3  s  3  2"
      ]
     },
     "execution_count": 76,
     "metadata": {},
     "output_type": "execute_result"
    }
   ],
   "source": [
    "df = df.groupby([\"p\", \"q\"]).size().reset_index(name=\"F\")\n",
    "df"
   ]
  },
  {
   "cell_type": "code",
   "execution_count": 77,
   "metadata": {
    "ExecuteTime": {
     "end_time": "2019-11-07T23:38:55.078960Z",
     "start_time": "2019-11-07T23:38:55.054614Z"
    }
   },
   "outputs": [
    {
     "data": {
      "text/html": [
       "<div>\n",
       "<style scoped>\n",
       "    .dataframe tbody tr th:only-of-type {\n",
       "        vertical-align: middle;\n",
       "    }\n",
       "\n",
       "    .dataframe tbody tr th {\n",
       "        vertical-align: top;\n",
       "    }\n",
       "\n",
       "    .dataframe thead th {\n",
       "        text-align: right;\n",
       "    }\n",
       "</style>\n",
       "<table border=\"1\" class=\"dataframe\">\n",
       "  <thead>\n",
       "    <tr style=\"text-align: right;\">\n",
       "      <th></th>\n",
       "      <th>p</th>\n",
       "      <th>q</th>\n",
       "      <th>F</th>\n",
       "      <th>mean</th>\n",
       "    </tr>\n",
       "  </thead>\n",
       "  <tbody>\n",
       "    <tr>\n",
       "      <td>0</td>\n",
       "      <td>a</td>\n",
       "      <td>1</td>\n",
       "      <td>2</td>\n",
       "      <td>1.5</td>\n",
       "    </tr>\n",
       "    <tr>\n",
       "      <td>1</td>\n",
       "      <td>a</td>\n",
       "      <td>2</td>\n",
       "      <td>1</td>\n",
       "      <td>1.0</td>\n",
       "    </tr>\n",
       "    <tr>\n",
       "      <td>2</td>\n",
       "      <td>b</td>\n",
       "      <td>1</td>\n",
       "      <td>1</td>\n",
       "      <td>1.5</td>\n",
       "    </tr>\n",
       "    <tr>\n",
       "      <td>3</td>\n",
       "      <td>s</td>\n",
       "      <td>3</td>\n",
       "      <td>2</td>\n",
       "      <td>2.0</td>\n",
       "    </tr>\n",
       "  </tbody>\n",
       "</table>\n",
       "</div>"
      ],
      "text/plain": [
       "   p  q  F  mean\n",
       "0  a  1  2   1.5\n",
       "1  a  2  1   1.0\n",
       "2  b  1  1   1.5\n",
       "3  s  3  2   2.0"
      ]
     },
     "execution_count": 77,
     "metadata": {},
     "output_type": "execute_result"
    }
   ],
   "source": [
    "df['mean'] = df.groupby(['q'])['F'].transform(np.mean)\n",
    "df"
   ]
  },
  {
   "cell_type": "code",
   "execution_count": 78,
   "metadata": {
    "ExecuteTime": {
     "end_time": "2019-11-07T23:38:59.053566Z",
     "start_time": "2019-11-07T23:38:59.029452Z"
    }
   },
   "outputs": [
    {
     "data": {
      "text/html": [
       "<div>\n",
       "<style scoped>\n",
       "    .dataframe tbody tr th:only-of-type {\n",
       "        vertical-align: middle;\n",
       "    }\n",
       "\n",
       "    .dataframe tbody tr th {\n",
       "        vertical-align: top;\n",
       "    }\n",
       "\n",
       "    .dataframe thead th {\n",
       "        text-align: right;\n",
       "    }\n",
       "</style>\n",
       "<table border=\"1\" class=\"dataframe\">\n",
       "  <thead>\n",
       "    <tr style=\"text-align: right;\">\n",
       "      <th></th>\n",
       "      <th>p</th>\n",
       "      <th>q</th>\n",
       "      <th>F</th>\n",
       "      <th>mean</th>\n",
       "      <th>sum</th>\n",
       "    </tr>\n",
       "  </thead>\n",
       "  <tbody>\n",
       "    <tr>\n",
       "      <td>0</td>\n",
       "      <td>a</td>\n",
       "      <td>1</td>\n",
       "      <td>2</td>\n",
       "      <td>1.5</td>\n",
       "      <td>3</td>\n",
       "    </tr>\n",
       "    <tr>\n",
       "      <td>1</td>\n",
       "      <td>a</td>\n",
       "      <td>2</td>\n",
       "      <td>1</td>\n",
       "      <td>1.0</td>\n",
       "      <td>1</td>\n",
       "    </tr>\n",
       "    <tr>\n",
       "      <td>2</td>\n",
       "      <td>b</td>\n",
       "      <td>1</td>\n",
       "      <td>1</td>\n",
       "      <td>1.5</td>\n",
       "      <td>3</td>\n",
       "    </tr>\n",
       "    <tr>\n",
       "      <td>3</td>\n",
       "      <td>s</td>\n",
       "      <td>3</td>\n",
       "      <td>2</td>\n",
       "      <td>2.0</td>\n",
       "      <td>2</td>\n",
       "    </tr>\n",
       "  </tbody>\n",
       "</table>\n",
       "</div>"
      ],
      "text/plain": [
       "   p  q  F  mean  sum\n",
       "0  a  1  2   1.5    3\n",
       "1  a  2  1   1.0    1\n",
       "2  b  1  1   1.5    3\n",
       "3  s  3  2   2.0    2"
      ]
     },
     "execution_count": 78,
     "metadata": {},
     "output_type": "execute_result"
    }
   ],
   "source": [
    "df['sum'] = df.groupby(['q'])['F'].transform(np.sum)\n",
    "df"
   ]
  },
  {
   "cell_type": "code",
   "execution_count": 79,
   "metadata": {
    "ExecuteTime": {
     "end_time": "2019-11-07T23:42:46.945756Z",
     "start_time": "2019-11-07T23:42:46.878902Z"
    }
   },
   "outputs": [
    {
     "data": {
      "text/html": [
       "<div>\n",
       "<style scoped>\n",
       "    .dataframe tbody tr th:only-of-type {\n",
       "        vertical-align: middle;\n",
       "    }\n",
       "\n",
       "    .dataframe tbody tr th {\n",
       "        vertical-align: top;\n",
       "    }\n",
       "\n",
       "    .dataframe thead th {\n",
       "        text-align: right;\n",
       "    }\n",
       "</style>\n",
       "<table border=\"1\" class=\"dataframe\">\n",
       "  <thead>\n",
       "    <tr style=\"text-align: right;\">\n",
       "      <th></th>\n",
       "      <th>p</th>\n",
       "      <th>q</th>\n",
       "      <th>F</th>\n",
       "      <th>mean</th>\n",
       "      <th>sum</th>\n",
       "      <th>Amean</th>\n",
       "    </tr>\n",
       "  </thead>\n",
       "  <tbody>\n",
       "    <tr>\n",
       "      <td>0</td>\n",
       "      <td>a</td>\n",
       "      <td>1</td>\n",
       "      <td>2</td>\n",
       "      <td>1.5</td>\n",
       "      <td>3</td>\n",
       "      <td>1.000000</td>\n",
       "    </tr>\n",
       "    <tr>\n",
       "      <td>1</td>\n",
       "      <td>a</td>\n",
       "      <td>2</td>\n",
       "      <td>1</td>\n",
       "      <td>1.0</td>\n",
       "      <td>1</td>\n",
       "      <td>0.333333</td>\n",
       "    </tr>\n",
       "    <tr>\n",
       "      <td>2</td>\n",
       "      <td>b</td>\n",
       "      <td>1</td>\n",
       "      <td>1</td>\n",
       "      <td>1.5</td>\n",
       "      <td>3</td>\n",
       "      <td>1.000000</td>\n",
       "    </tr>\n",
       "    <tr>\n",
       "      <td>3</td>\n",
       "      <td>s</td>\n",
       "      <td>3</td>\n",
       "      <td>2</td>\n",
       "      <td>2.0</td>\n",
       "      <td>2</td>\n",
       "      <td>0.666667</td>\n",
       "    </tr>\n",
       "  </tbody>\n",
       "</table>\n",
       "</div>"
      ],
      "text/plain": [
       "   p  q  F  mean  sum     Amean\n",
       "0  a  1  2   1.5    3  1.000000\n",
       "1  a  2  1   1.0    1  0.333333\n",
       "2  b  1  1   1.5    3  1.000000\n",
       "3  s  3  2   2.0    2  0.666667"
      ]
     },
     "execution_count": 79,
     "metadata": {},
     "output_type": "execute_result"
    }
   ],
   "source": [
    "df['Amean'] = df['sum']/len(df.p.unique())\n",
    "df\n",
    "#len(df.p.unique())"
   ]
  },
  {
   "cell_type": "code",
   "execution_count": 60,
   "metadata": {
    "ExecuteTime": {
     "end_time": "2019-11-04T15:36:18.746043Z",
     "start_time": "2019-11-04T15:36:18.697836Z"
    }
   },
   "outputs": [
    {
     "data": {
      "text/html": [
       "<div>\n",
       "<style scoped>\n",
       "    .dataframe tbody tr th:only-of-type {\n",
       "        vertical-align: middle;\n",
       "    }\n",
       "\n",
       "    .dataframe tbody tr th {\n",
       "        vertical-align: top;\n",
       "    }\n",
       "\n",
       "    .dataframe thead th {\n",
       "        text-align: right;\n",
       "    }\n",
       "</style>\n",
       "<table border=\"1\" class=\"dataframe\">\n",
       "  <thead>\n",
       "    <tr style=\"text-align: right;\">\n",
       "      <th></th>\n",
       "      <th>p</th>\n",
       "      <th>q</th>\n",
       "      <th>freq</th>\n",
       "    </tr>\n",
       "  </thead>\n",
       "  <tbody>\n",
       "    <tr>\n",
       "      <td>0</td>\n",
       "      <td>a</td>\n",
       "      <td>1</td>\n",
       "      <td>11</td>\n",
       "    </tr>\n",
       "    <tr>\n",
       "      <td>1</td>\n",
       "      <td>b</td>\n",
       "      <td>2</td>\n",
       "      <td>223</td>\n",
       "    </tr>\n",
       "    <tr>\n",
       "      <td>2</td>\n",
       "      <td>s</td>\n",
       "      <td>1</td>\n",
       "      <td>11</td>\n",
       "    </tr>\n",
       "    <tr>\n",
       "      <td>3</td>\n",
       "      <td>s</td>\n",
       "      <td>1</td>\n",
       "      <td>11</td>\n",
       "    </tr>\n",
       "    <tr>\n",
       "      <td>4</td>\n",
       "      <td>b</td>\n",
       "      <td>2</td>\n",
       "      <td>223</td>\n",
       "    </tr>\n",
       "    <tr>\n",
       "      <td>5</td>\n",
       "      <td>a</td>\n",
       "      <td>1</td>\n",
       "      <td>11</td>\n",
       "    </tr>\n",
       "    <tr>\n",
       "      <td>6</td>\n",
       "      <td>b</td>\n",
       "      <td>3</td>\n",
       "      <td>223</td>\n",
       "    </tr>\n",
       "  </tbody>\n",
       "</table>\n",
       "</div>"
      ],
      "text/plain": [
       "   p  q freq\n",
       "0  a  1   11\n",
       "1  b  2  223\n",
       "2  s  1   11\n",
       "3  s  1   11\n",
       "4  b  2  223\n",
       "5  a  1   11\n",
       "6  b  3  223"
      ]
     },
     "execution_count": 60,
     "metadata": {},
     "output_type": "execute_result"
    }
   ],
   "source": [
    "df['freq'] = df.groupby('p')['q'].transform(np.sum)\n",
    "df"
   ]
  },
  {
   "cell_type": "code",
   "execution_count": null,
   "metadata": {},
   "outputs": [],
   "source": []
  },
  {
   "cell_type": "code",
   "execution_count": null,
   "metadata": {},
   "outputs": [],
   "source": []
  }
 ],
 "metadata": {
  "kernelspec": {
   "display_name": "Python 3",
   "language": "python",
   "name": "python3"
  },
  "language_info": {
   "codemirror_mode": {
    "name": "ipython",
    "version": 3
   },
   "file_extension": ".py",
   "mimetype": "text/x-python",
   "name": "python",
   "nbconvert_exporter": "python",
   "pygments_lexer": "ipython3",
   "version": "3.7.3"
  },
  "toc": {
   "base_numbering": 1,
   "nav_menu": {},
   "number_sections": true,
   "sideBar": true,
   "skip_h1_title": false,
   "title_cell": "Table of Contents",
   "title_sidebar": "Contents",
   "toc_cell": false,
   "toc_position": {},
   "toc_section_display": true,
   "toc_window_display": false
  },
  "varInspector": {
   "cols": {
    "lenName": 16,
    "lenType": 16,
    "lenVar": 40
   },
   "kernels_config": {
    "python": {
     "delete_cmd_postfix": "",
     "delete_cmd_prefix": "del ",
     "library": "var_list.py",
     "varRefreshCmd": "print(var_dic_list())"
    },
    "r": {
     "delete_cmd_postfix": ") ",
     "delete_cmd_prefix": "rm(",
     "library": "var_list.r",
     "varRefreshCmd": "cat(var_dic_list()) "
    }
   },
   "types_to_exclude": [
    "module",
    "function",
    "builtin_function_or_method",
    "instance",
    "_Feature"
   ],
   "window_display": false
  }
 },
 "nbformat": 4,
 "nbformat_minor": 2
}
